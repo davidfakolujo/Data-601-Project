{
 "cells": [
  {
   "cell_type": "code",
   "execution_count": 1,
   "id": "ca5a5ff8-6639-4116-98da-00f812b62b16",
   "metadata": {},
   "outputs": [],
   "source": [
    "# import libraries and set plots to be embedded inline\n",
    "\n",
    "import pandas as pd\n",
    "import numpy as np\n",
    "import matplotlib.pyplot as plt\n",
    "import seaborn as sns\n",
    "import scipy.stats as stats\n",
    "import math\n",
    "import regex as re\n",
    "from scipy.stats import ttest_ind, chi2_contingency\n",
    "\n",
    "import ipywidgets as widgets\n",
    "from ipywidgets import interact\n",
    "import plotly.graph_objs as go\n",
    "\n",
    "%matplotlib inline"
   ]
  },
  {
   "cell_type": "code",
   "execution_count": 2,
   "id": "52303cc3-90ab-4015-85ea-aff48336e085",
   "metadata": {},
   "outputs": [],
   "source": [
    "# load dataset\n",
    "\n",
    "df = pd.read_csv(\"ds_salaries.csv\")"
   ]
  },
  {
   "cell_type": "code",
   "execution_count": 3,
   "id": "e7d73743",
   "metadata": {},
   "outputs": [
    {
     "data": {
      "text/html": [
       "<div>\n",
       "<style scoped>\n",
       "    .dataframe tbody tr th:only-of-type {\n",
       "        vertical-align: middle;\n",
       "    }\n",
       "\n",
       "    .dataframe tbody tr th {\n",
       "        vertical-align: top;\n",
       "    }\n",
       "\n",
       "    .dataframe thead th {\n",
       "        text-align: right;\n",
       "    }\n",
       "</style>\n",
       "<table border=\"1\" class=\"dataframe\">\n",
       "  <thead>\n",
       "    <tr style=\"text-align: right;\">\n",
       "      <th></th>\n",
       "      <th>work_year</th>\n",
       "      <th>experience_level</th>\n",
       "      <th>employment_type</th>\n",
       "      <th>job_title</th>\n",
       "      <th>salary</th>\n",
       "      <th>salary_currency</th>\n",
       "      <th>salary_in_usd</th>\n",
       "      <th>employee_residence</th>\n",
       "      <th>remote_ratio</th>\n",
       "      <th>company_location</th>\n",
       "      <th>company_size</th>\n",
       "    </tr>\n",
       "  </thead>\n",
       "  <tbody>\n",
       "    <tr>\n",
       "      <th>0</th>\n",
       "      <td>2023</td>\n",
       "      <td>SE</td>\n",
       "      <td>FT</td>\n",
       "      <td>Principal Data Scientist</td>\n",
       "      <td>80000</td>\n",
       "      <td>EUR</td>\n",
       "      <td>85847</td>\n",
       "      <td>ES</td>\n",
       "      <td>100</td>\n",
       "      <td>ES</td>\n",
       "      <td>L</td>\n",
       "    </tr>\n",
       "    <tr>\n",
       "      <th>1</th>\n",
       "      <td>2023</td>\n",
       "      <td>MI</td>\n",
       "      <td>CT</td>\n",
       "      <td>ML Engineer</td>\n",
       "      <td>30000</td>\n",
       "      <td>USD</td>\n",
       "      <td>30000</td>\n",
       "      <td>US</td>\n",
       "      <td>100</td>\n",
       "      <td>US</td>\n",
       "      <td>S</td>\n",
       "    </tr>\n",
       "    <tr>\n",
       "      <th>2</th>\n",
       "      <td>2023</td>\n",
       "      <td>MI</td>\n",
       "      <td>CT</td>\n",
       "      <td>ML Engineer</td>\n",
       "      <td>25500</td>\n",
       "      <td>USD</td>\n",
       "      <td>25500</td>\n",
       "      <td>US</td>\n",
       "      <td>100</td>\n",
       "      <td>US</td>\n",
       "      <td>S</td>\n",
       "    </tr>\n",
       "    <tr>\n",
       "      <th>3</th>\n",
       "      <td>2023</td>\n",
       "      <td>SE</td>\n",
       "      <td>FT</td>\n",
       "      <td>Data Scientist</td>\n",
       "      <td>175000</td>\n",
       "      <td>USD</td>\n",
       "      <td>175000</td>\n",
       "      <td>CA</td>\n",
       "      <td>100</td>\n",
       "      <td>CA</td>\n",
       "      <td>M</td>\n",
       "    </tr>\n",
       "    <tr>\n",
       "      <th>4</th>\n",
       "      <td>2023</td>\n",
       "      <td>SE</td>\n",
       "      <td>FT</td>\n",
       "      <td>Data Scientist</td>\n",
       "      <td>120000</td>\n",
       "      <td>USD</td>\n",
       "      <td>120000</td>\n",
       "      <td>CA</td>\n",
       "      <td>100</td>\n",
       "      <td>CA</td>\n",
       "      <td>M</td>\n",
       "    </tr>\n",
       "  </tbody>\n",
       "</table>\n",
       "</div>"
      ],
      "text/plain": [
       "   work_year experience_level employment_type                 job_title  \\\n",
       "0       2023               SE              FT  Principal Data Scientist   \n",
       "1       2023               MI              CT               ML Engineer   \n",
       "2       2023               MI              CT               ML Engineer   \n",
       "3       2023               SE              FT            Data Scientist   \n",
       "4       2023               SE              FT            Data Scientist   \n",
       "\n",
       "   salary salary_currency  salary_in_usd employee_residence  remote_ratio  \\\n",
       "0   80000             EUR          85847                 ES           100   \n",
       "1   30000             USD          30000                 US           100   \n",
       "2   25500             USD          25500                 US           100   \n",
       "3  175000             USD         175000                 CA           100   \n",
       "4  120000             USD         120000                 CA           100   \n",
       "\n",
       "  company_location company_size  \n",
       "0               ES            L  \n",
       "1               US            S  \n",
       "2               US            S  \n",
       "3               CA            M  \n",
       "4               CA            M  "
      ]
     },
     "metadata": {},
     "output_type": "display_data"
    }
   ],
   "source": [
    "# view dataset head\n",
    "\n",
    "display(df.head())"
   ]
  },
  {
   "cell_type": "code",
   "execution_count": 4,
   "id": "33c9ad3e",
   "metadata": {},
   "outputs": [
    {
     "name": "stdout",
     "output_type": "stream",
     "text": [
      "<class 'pandas.core.frame.DataFrame'>\n",
      "RangeIndex: 3755 entries, 0 to 3754\n",
      "Data columns (total 11 columns):\n",
      " #   Column              Non-Null Count  Dtype \n",
      "---  ------              --------------  ----- \n",
      " 0   work_year           3755 non-null   int64 \n",
      " 1   experience_level    3755 non-null   object\n",
      " 2   employment_type     3755 non-null   object\n",
      " 3   job_title           3755 non-null   object\n",
      " 4   salary              3755 non-null   int64 \n",
      " 5   salary_currency     3755 non-null   object\n",
      " 6   salary_in_usd       3755 non-null   int64 \n",
      " 7   employee_residence  3755 non-null   object\n",
      " 8   remote_ratio        3755 non-null   int64 \n",
      " 9   company_location    3755 non-null   object\n",
      " 10  company_size        3755 non-null   object\n",
      "dtypes: int64(4), object(7)\n",
      "memory usage: 322.8+ KB\n"
     ]
    },
    {
     "data": {
      "text/plain": [
       "None"
      ]
     },
     "metadata": {},
     "output_type": "display_data"
    }
   ],
   "source": [
    "# view dataset info\n",
    "\n",
    "display(df.info())"
   ]
  },
  {
   "cell_type": "markdown",
   "id": "e31ef602",
   "metadata": {},
   "source": [
    "The info output above shows the dataset does not have any missing data"
   ]
  },
  {
   "cell_type": "markdown",
   "id": "ef84ed9c",
   "metadata": {},
   "source": [
    "#### We would be using the salary_in_usd column for the analysis of salaries. As a result, the salary and salary_currency columns can be dropped"
   ]
  },
  {
   "cell_type": "code",
   "execution_count": 5,
   "id": "df19bf27-a832-496c-ab47-422d8d86ce9a",
   "metadata": {},
   "outputs": [
    {
     "data": {
      "text/html": [
       "<div>\n",
       "<style scoped>\n",
       "    .dataframe tbody tr th:only-of-type {\n",
       "        vertical-align: middle;\n",
       "    }\n",
       "\n",
       "    .dataframe tbody tr th {\n",
       "        vertical-align: top;\n",
       "    }\n",
       "\n",
       "    .dataframe thead th {\n",
       "        text-align: right;\n",
       "    }\n",
       "</style>\n",
       "<table border=\"1\" class=\"dataframe\">\n",
       "  <thead>\n",
       "    <tr style=\"text-align: right;\">\n",
       "      <th></th>\n",
       "      <th>work_year</th>\n",
       "      <th>experience_level</th>\n",
       "      <th>employment_type</th>\n",
       "      <th>job_title</th>\n",
       "      <th>salary_in_usd</th>\n",
       "      <th>employee_residence</th>\n",
       "      <th>remote_ratio</th>\n",
       "      <th>company_location</th>\n",
       "      <th>company_size</th>\n",
       "    </tr>\n",
       "  </thead>\n",
       "  <tbody>\n",
       "    <tr>\n",
       "      <th>0</th>\n",
       "      <td>2023</td>\n",
       "      <td>SE</td>\n",
       "      <td>FT</td>\n",
       "      <td>Principal Data Scientist</td>\n",
       "      <td>85847</td>\n",
       "      <td>ES</td>\n",
       "      <td>100</td>\n",
       "      <td>ES</td>\n",
       "      <td>L</td>\n",
       "    </tr>\n",
       "    <tr>\n",
       "      <th>1</th>\n",
       "      <td>2023</td>\n",
       "      <td>MI</td>\n",
       "      <td>CT</td>\n",
       "      <td>ML Engineer</td>\n",
       "      <td>30000</td>\n",
       "      <td>US</td>\n",
       "      <td>100</td>\n",
       "      <td>US</td>\n",
       "      <td>S</td>\n",
       "    </tr>\n",
       "    <tr>\n",
       "      <th>2</th>\n",
       "      <td>2023</td>\n",
       "      <td>MI</td>\n",
       "      <td>CT</td>\n",
       "      <td>ML Engineer</td>\n",
       "      <td>25500</td>\n",
       "      <td>US</td>\n",
       "      <td>100</td>\n",
       "      <td>US</td>\n",
       "      <td>S</td>\n",
       "    </tr>\n",
       "    <tr>\n",
       "      <th>3</th>\n",
       "      <td>2023</td>\n",
       "      <td>SE</td>\n",
       "      <td>FT</td>\n",
       "      <td>Data Scientist</td>\n",
       "      <td>175000</td>\n",
       "      <td>CA</td>\n",
       "      <td>100</td>\n",
       "      <td>CA</td>\n",
       "      <td>M</td>\n",
       "    </tr>\n",
       "    <tr>\n",
       "      <th>4</th>\n",
       "      <td>2023</td>\n",
       "      <td>SE</td>\n",
       "      <td>FT</td>\n",
       "      <td>Data Scientist</td>\n",
       "      <td>120000</td>\n",
       "      <td>CA</td>\n",
       "      <td>100</td>\n",
       "      <td>CA</td>\n",
       "      <td>M</td>\n",
       "    </tr>\n",
       "    <tr>\n",
       "      <th>...</th>\n",
       "      <td>...</td>\n",
       "      <td>...</td>\n",
       "      <td>...</td>\n",
       "      <td>...</td>\n",
       "      <td>...</td>\n",
       "      <td>...</td>\n",
       "      <td>...</td>\n",
       "      <td>...</td>\n",
       "      <td>...</td>\n",
       "    </tr>\n",
       "    <tr>\n",
       "      <th>3750</th>\n",
       "      <td>2020</td>\n",
       "      <td>SE</td>\n",
       "      <td>FT</td>\n",
       "      <td>Data Scientist</td>\n",
       "      <td>412000</td>\n",
       "      <td>US</td>\n",
       "      <td>100</td>\n",
       "      <td>US</td>\n",
       "      <td>L</td>\n",
       "    </tr>\n",
       "    <tr>\n",
       "      <th>3751</th>\n",
       "      <td>2021</td>\n",
       "      <td>MI</td>\n",
       "      <td>FT</td>\n",
       "      <td>Principal Data Scientist</td>\n",
       "      <td>151000</td>\n",
       "      <td>US</td>\n",
       "      <td>100</td>\n",
       "      <td>US</td>\n",
       "      <td>L</td>\n",
       "    </tr>\n",
       "    <tr>\n",
       "      <th>3752</th>\n",
       "      <td>2020</td>\n",
       "      <td>EN</td>\n",
       "      <td>FT</td>\n",
       "      <td>Data Scientist</td>\n",
       "      <td>105000</td>\n",
       "      <td>US</td>\n",
       "      <td>100</td>\n",
       "      <td>US</td>\n",
       "      <td>S</td>\n",
       "    </tr>\n",
       "    <tr>\n",
       "      <th>3753</th>\n",
       "      <td>2020</td>\n",
       "      <td>EN</td>\n",
       "      <td>CT</td>\n",
       "      <td>Business Data Analyst</td>\n",
       "      <td>100000</td>\n",
       "      <td>US</td>\n",
       "      <td>100</td>\n",
       "      <td>US</td>\n",
       "      <td>L</td>\n",
       "    </tr>\n",
       "    <tr>\n",
       "      <th>3754</th>\n",
       "      <td>2021</td>\n",
       "      <td>SE</td>\n",
       "      <td>FT</td>\n",
       "      <td>Data Science Manager</td>\n",
       "      <td>94665</td>\n",
       "      <td>IN</td>\n",
       "      <td>50</td>\n",
       "      <td>IN</td>\n",
       "      <td>L</td>\n",
       "    </tr>\n",
       "  </tbody>\n",
       "</table>\n",
       "<p>3755 rows × 9 columns</p>\n",
       "</div>"
      ],
      "text/plain": [
       "      work_year experience_level employment_type                 job_title  \\\n",
       "0          2023               SE              FT  Principal Data Scientist   \n",
       "1          2023               MI              CT               ML Engineer   \n",
       "2          2023               MI              CT               ML Engineer   \n",
       "3          2023               SE              FT            Data Scientist   \n",
       "4          2023               SE              FT            Data Scientist   \n",
       "...         ...              ...             ...                       ...   \n",
       "3750       2020               SE              FT            Data Scientist   \n",
       "3751       2021               MI              FT  Principal Data Scientist   \n",
       "3752       2020               EN              FT            Data Scientist   \n",
       "3753       2020               EN              CT     Business Data Analyst   \n",
       "3754       2021               SE              FT      Data Science Manager   \n",
       "\n",
       "      salary_in_usd employee_residence  remote_ratio company_location  \\\n",
       "0             85847                 ES           100               ES   \n",
       "1             30000                 US           100               US   \n",
       "2             25500                 US           100               US   \n",
       "3            175000                 CA           100               CA   \n",
       "4            120000                 CA           100               CA   \n",
       "...             ...                ...           ...              ...   \n",
       "3750         412000                 US           100               US   \n",
       "3751         151000                 US           100               US   \n",
       "3752         105000                 US           100               US   \n",
       "3753         100000                 US           100               US   \n",
       "3754          94665                 IN            50               IN   \n",
       "\n",
       "     company_size  \n",
       "0               L  \n",
       "1               S  \n",
       "2               S  \n",
       "3               M  \n",
       "4               M  \n",
       "...           ...  \n",
       "3750            L  \n",
       "3751            L  \n",
       "3752            S  \n",
       "3753            L  \n",
       "3754            L  \n",
       "\n",
       "[3755 rows x 9 columns]"
      ]
     },
     "metadata": {},
     "output_type": "display_data"
    }
   ],
   "source": [
    "# drop irrelevant columns\n",
    "\n",
    "df.drop(['salary','salary_currency'], axis = 1, inplace = True)\n",
    "display(df)"
   ]
  },
  {
   "cell_type": "code",
   "execution_count": 6,
   "id": "33915ae2",
   "metadata": {},
   "outputs": [
    {
     "data": {
      "text/plain": [
       "Data Engineer                          1040\n",
       "Data Scientist                          840\n",
       "Data Analyst                            612\n",
       "Machine Learning Engineer               289\n",
       "Analytics Engineer                      103\n",
       "                                       ... \n",
       "Principal Machine Learning Engineer       1\n",
       "Azure Data Engineer                       1\n",
       "Manager Data Management                   1\n",
       "Marketing Data Engineer                   1\n",
       "Finance Data Analyst                      1\n",
       "Name: job_title, Length: 93, dtype: int64"
      ]
     },
     "execution_count": 6,
     "metadata": {},
     "output_type": "execute_result"
    }
   ],
   "source": [
    "# view count distribution of job title column\n",
    "\n",
    "df['job_title'].value_counts()"
   ]
  },
  {
   "cell_type": "code",
   "execution_count": 7,
   "id": "87dce7d4",
   "metadata": {},
   "outputs": [],
   "source": [
    "# clean job titles with regex\n",
    "\n",
    "df['job_title'] = df['job_title'].replace(r'.*(Scientist|Science).*', 'Data Scientist', regex=True)\n",
    "\n",
    "df['job_title'] = df['job_title'].replace(r'.*(Analyst|Analytics).*', 'Data Analyst', regex=True)\n",
    "\n",
    "df['job_title'] = df['job_title'].replace(r'.*(Data.* Engineer|ETL).*', 'Data Engineer', regex=True)\n",
    "\n",
    "df['job_title'] = df['job_title'].replace(r'.*(ML.* Engineer|Machine Learning).*', 'Machine Learning Engineer', regex=True)\n",
    "\n",
    "df['job_title'] = df['job_title'].replace(r'.*(Data Architect).*', 'Data Architect', regex=True)"
   ]
  },
  {
   "cell_type": "code",
   "execution_count": 8,
   "id": "55e98285",
   "metadata": {},
   "outputs": [
    {
     "data": {
      "text/plain": [
       "Data Scientist                       1181\n",
       "Data Engineer                        1101\n",
       "Data Analyst                          821\n",
       "Machine Learning Engineer             375\n",
       "Data Architect                        105\n",
       "Research Engineer                      37\n",
       "Data Manager                           29\n",
       "Computer Vision Engineer               18\n",
       "Data Specialist                        14\n",
       "BI Developer                           13\n",
       "AI Developer                           11\n",
       "Head of Data                           10\n",
       "NLP Engineer                            7\n",
       "Deep Learning Engineer                  6\n",
       "Computer Vision Software Engineer       5\n",
       "3D Computer Vision Researcher           4\n",
       "Business Intelligence Engineer          4\n",
       "Data Strategist                         2\n",
       "Data Modeler                            2\n",
       "Autonomous Vehicle Technician           2\n",
       "AI Programmer                           2\n",
       "Data Lead                               2\n",
       "Data Management Specialist              1\n",
       "Deep Learning Researcher                1\n",
       "Manager Data Management                 1\n",
       "Power BI Developer                      1\n",
       "Name: job_title, dtype: int64"
      ]
     },
     "execution_count": 8,
     "metadata": {},
     "output_type": "execute_result"
    }
   ],
   "source": [
    "# view updated count distribution of job title column\n",
    "\n",
    "df['job_title'].value_counts()"
   ]
  },
  {
   "cell_type": "code",
   "execution_count": 9,
   "id": "0f2c5639",
   "metadata": {},
   "outputs": [],
   "source": [
    "# since autonomous vehicle techincian is not a data science related job title, those rows would be dropped\n",
    "\n",
    "df.drop(df[df['job_title'] == 'Autonomous Vehicle Technician'].index, inplace = True)"
   ]
  },
  {
   "cell_type": "code",
   "execution_count": 10,
   "id": "ff4fcaef",
   "metadata": {},
   "outputs": [],
   "source": [
    "# create list of major job titles\n",
    "\n",
    "major_jobs = df['job_title'].value_counts()[:5].index"
   ]
  },
  {
   "cell_type": "code",
   "execution_count": 11,
   "id": "c1a4e55a",
   "metadata": {},
   "outputs": [],
   "source": [
    "# replace job titles not among the main job titles with 'Others'\n",
    "\n",
    "df['job_title'] = df['job_title'].apply(lambda x: x if x in major_jobs else 'Others')"
   ]
  },
  {
   "cell_type": "code",
   "execution_count": 12,
   "id": "0c8d5fd8",
   "metadata": {},
   "outputs": [
    {
     "data": {
      "text/plain": [
       "Data Scientist               1181\n",
       "Data Engineer                1101\n",
       "Data Analyst                  821\n",
       "Machine Learning Engineer     375\n",
       "Others                        170\n",
       "Data Architect                105\n",
       "Name: job_title, dtype: int64"
      ]
     },
     "execution_count": 12,
     "metadata": {},
     "output_type": "execute_result"
    }
   ],
   "source": [
    "# view updated count distribution of job title column\n",
    "\n",
    "df['job_title'].value_counts()"
   ]
  },
  {
   "cell_type": "code",
   "execution_count": 13,
   "id": "b13095e0",
   "metadata": {},
   "outputs": [],
   "source": [
    "#creates a new column with the converted currency using the most recent exchange rate(2/5/2025)\n",
    "df['salary_in_cad'] = df['salary_in_usd'] * 1.43"
   ]
  },
  {
   "cell_type": "code",
   "execution_count": 14,
   "id": "6672428b-95f2-45a6-b05b-9c3a327b738d",
   "metadata": {},
   "outputs": [],
   "source": [
    "#drops the USD column as it is no longer necessary\n",
    "df.drop(['salary_in_usd'], axis = 1, inplace = True) "
   ]
  },
  {
   "cell_type": "code",
   "execution_count": 15,
   "id": "c3e6bc64-1c01-453e-a8d3-5756776ca5e4",
   "metadata": {},
   "outputs": [
    {
     "data": {
      "text/html": [
       "<div>\n",
       "<style scoped>\n",
       "    .dataframe tbody tr th:only-of-type {\n",
       "        vertical-align: middle;\n",
       "    }\n",
       "\n",
       "    .dataframe tbody tr th {\n",
       "        vertical-align: top;\n",
       "    }\n",
       "\n",
       "    .dataframe thead th {\n",
       "        text-align: right;\n",
       "    }\n",
       "</style>\n",
       "<table border=\"1\" class=\"dataframe\">\n",
       "  <thead>\n",
       "    <tr style=\"text-align: right;\">\n",
       "      <th></th>\n",
       "      <th>work_year</th>\n",
       "      <th>experience_level</th>\n",
       "      <th>employment_type</th>\n",
       "      <th>job_title</th>\n",
       "      <th>employee_residence</th>\n",
       "      <th>remote_ratio</th>\n",
       "      <th>company_location</th>\n",
       "      <th>company_size</th>\n",
       "      <th>salary_in_cad</th>\n",
       "    </tr>\n",
       "  </thead>\n",
       "  <tbody>\n",
       "    <tr>\n",
       "      <th>0</th>\n",
       "      <td>2023</td>\n",
       "      <td>SE</td>\n",
       "      <td>FT</td>\n",
       "      <td>Data Scientist</td>\n",
       "      <td>ES</td>\n",
       "      <td>100</td>\n",
       "      <td>ES</td>\n",
       "      <td>L</td>\n",
       "      <td>122761.21</td>\n",
       "    </tr>\n",
       "    <tr>\n",
       "      <th>1</th>\n",
       "      <td>2023</td>\n",
       "      <td>MI</td>\n",
       "      <td>CT</td>\n",
       "      <td>Machine Learning Engineer</td>\n",
       "      <td>US</td>\n",
       "      <td>100</td>\n",
       "      <td>US</td>\n",
       "      <td>S</td>\n",
       "      <td>42900.00</td>\n",
       "    </tr>\n",
       "    <tr>\n",
       "      <th>2</th>\n",
       "      <td>2023</td>\n",
       "      <td>MI</td>\n",
       "      <td>CT</td>\n",
       "      <td>Machine Learning Engineer</td>\n",
       "      <td>US</td>\n",
       "      <td>100</td>\n",
       "      <td>US</td>\n",
       "      <td>S</td>\n",
       "      <td>36465.00</td>\n",
       "    </tr>\n",
       "    <tr>\n",
       "      <th>3</th>\n",
       "      <td>2023</td>\n",
       "      <td>SE</td>\n",
       "      <td>FT</td>\n",
       "      <td>Data Scientist</td>\n",
       "      <td>CA</td>\n",
       "      <td>100</td>\n",
       "      <td>CA</td>\n",
       "      <td>M</td>\n",
       "      <td>250250.00</td>\n",
       "    </tr>\n",
       "    <tr>\n",
       "      <th>4</th>\n",
       "      <td>2023</td>\n",
       "      <td>SE</td>\n",
       "      <td>FT</td>\n",
       "      <td>Data Scientist</td>\n",
       "      <td>CA</td>\n",
       "      <td>100</td>\n",
       "      <td>CA</td>\n",
       "      <td>M</td>\n",
       "      <td>171600.00</td>\n",
       "    </tr>\n",
       "    <tr>\n",
       "      <th>...</th>\n",
       "      <td>...</td>\n",
       "      <td>...</td>\n",
       "      <td>...</td>\n",
       "      <td>...</td>\n",
       "      <td>...</td>\n",
       "      <td>...</td>\n",
       "      <td>...</td>\n",
       "      <td>...</td>\n",
       "      <td>...</td>\n",
       "    </tr>\n",
       "    <tr>\n",
       "      <th>3750</th>\n",
       "      <td>2020</td>\n",
       "      <td>SE</td>\n",
       "      <td>FT</td>\n",
       "      <td>Data Scientist</td>\n",
       "      <td>US</td>\n",
       "      <td>100</td>\n",
       "      <td>US</td>\n",
       "      <td>L</td>\n",
       "      <td>589160.00</td>\n",
       "    </tr>\n",
       "    <tr>\n",
       "      <th>3751</th>\n",
       "      <td>2021</td>\n",
       "      <td>MI</td>\n",
       "      <td>FT</td>\n",
       "      <td>Data Scientist</td>\n",
       "      <td>US</td>\n",
       "      <td>100</td>\n",
       "      <td>US</td>\n",
       "      <td>L</td>\n",
       "      <td>215930.00</td>\n",
       "    </tr>\n",
       "    <tr>\n",
       "      <th>3752</th>\n",
       "      <td>2020</td>\n",
       "      <td>EN</td>\n",
       "      <td>FT</td>\n",
       "      <td>Data Scientist</td>\n",
       "      <td>US</td>\n",
       "      <td>100</td>\n",
       "      <td>US</td>\n",
       "      <td>S</td>\n",
       "      <td>150150.00</td>\n",
       "    </tr>\n",
       "    <tr>\n",
       "      <th>3753</th>\n",
       "      <td>2020</td>\n",
       "      <td>EN</td>\n",
       "      <td>CT</td>\n",
       "      <td>Data Analyst</td>\n",
       "      <td>US</td>\n",
       "      <td>100</td>\n",
       "      <td>US</td>\n",
       "      <td>L</td>\n",
       "      <td>143000.00</td>\n",
       "    </tr>\n",
       "    <tr>\n",
       "      <th>3754</th>\n",
       "      <td>2021</td>\n",
       "      <td>SE</td>\n",
       "      <td>FT</td>\n",
       "      <td>Data Scientist</td>\n",
       "      <td>IN</td>\n",
       "      <td>50</td>\n",
       "      <td>IN</td>\n",
       "      <td>L</td>\n",
       "      <td>135370.95</td>\n",
       "    </tr>\n",
       "  </tbody>\n",
       "</table>\n",
       "<p>3753 rows × 9 columns</p>\n",
       "</div>"
      ],
      "text/plain": [
       "      work_year experience_level employment_type                  job_title  \\\n",
       "0          2023               SE              FT             Data Scientist   \n",
       "1          2023               MI              CT  Machine Learning Engineer   \n",
       "2          2023               MI              CT  Machine Learning Engineer   \n",
       "3          2023               SE              FT             Data Scientist   \n",
       "4          2023               SE              FT             Data Scientist   \n",
       "...         ...              ...             ...                        ...   \n",
       "3750       2020               SE              FT             Data Scientist   \n",
       "3751       2021               MI              FT             Data Scientist   \n",
       "3752       2020               EN              FT             Data Scientist   \n",
       "3753       2020               EN              CT               Data Analyst   \n",
       "3754       2021               SE              FT             Data Scientist   \n",
       "\n",
       "     employee_residence  remote_ratio company_location company_size  \\\n",
       "0                    ES           100               ES            L   \n",
       "1                    US           100               US            S   \n",
       "2                    US           100               US            S   \n",
       "3                    CA           100               CA            M   \n",
       "4                    CA           100               CA            M   \n",
       "...                 ...           ...              ...          ...   \n",
       "3750                 US           100               US            L   \n",
       "3751                 US           100               US            L   \n",
       "3752                 US           100               US            S   \n",
       "3753                 US           100               US            L   \n",
       "3754                 IN            50               IN            L   \n",
       "\n",
       "      salary_in_cad  \n",
       "0         122761.21  \n",
       "1          42900.00  \n",
       "2          36465.00  \n",
       "3         250250.00  \n",
       "4         171600.00  \n",
       "...             ...  \n",
       "3750      589160.00  \n",
       "3751      215930.00  \n",
       "3752      150150.00  \n",
       "3753      143000.00  \n",
       "3754      135370.95  \n",
       "\n",
       "[3753 rows x 9 columns]"
      ]
     },
     "metadata": {},
     "output_type": "display_data"
    }
   ],
   "source": [
    "#display updated data frame\n",
    "display(df)"
   ]
  },
  {
   "cell_type": "code",
   "execution_count": 16,
   "id": "0448c565-20e0-4102-8c03-521ce8a2553c",
   "metadata": {},
   "outputs": [],
   "source": [
    "#creating a new column that interprets the remote ratio as In-Person, Hybrid or Fully Remote\n",
    "df['remote_status'] = df['remote_ratio'].replace({0:'In-Person', 50:'Hybrid', 100:'Fully Remote'})"
   ]
  },
  {
   "cell_type": "code",
   "execution_count": 17,
   "id": "5999df9b",
   "metadata": {},
   "outputs": [],
   "source": [
    "# drop remote ratio column\n",
    "df.drop('remote_ratio', axis = 1, inplace = True)"
   ]
  },
  {
   "cell_type": "code",
   "execution_count": 18,
   "id": "82e6e594",
   "metadata": {},
   "outputs": [],
   "source": [
    "# rename abbreviations of experience_level, employment_type and company_size with their full meanings\n",
    "\n",
    "df['experience_level'] = df['experience_level'].replace({'EN':'Entry', 'MI':'Mid', \n",
    "                                                         'SE':'Senior', 'EX':'Executive'})\n",
    "\n",
    "df['employment_type'] = df['employment_type'].replace({'PT':'Part Time', 'FT':'Full Time', \n",
    "                                                  'CT':'Contract', 'FL':'Freelance'})\n",
    "\n",
    "df['company_size'] = df['company_size'].replace({'S':'Small', 'M':'Medium', 'L':'Large'})"
   ]
  },
  {
   "cell_type": "code",
   "execution_count": 19,
   "id": "c94b005f-880b-4200-b38e-0d2b4324cb30",
   "metadata": {},
   "outputs": [
    {
     "data": {
      "text/html": [
       "<div>\n",
       "<style scoped>\n",
       "    .dataframe tbody tr th:only-of-type {\n",
       "        vertical-align: middle;\n",
       "    }\n",
       "\n",
       "    .dataframe tbody tr th {\n",
       "        vertical-align: top;\n",
       "    }\n",
       "\n",
       "    .dataframe thead th {\n",
       "        text-align: right;\n",
       "    }\n",
       "</style>\n",
       "<table border=\"1\" class=\"dataframe\">\n",
       "  <thead>\n",
       "    <tr style=\"text-align: right;\">\n",
       "      <th></th>\n",
       "      <th>work_year</th>\n",
       "      <th>experience_level</th>\n",
       "      <th>employment_type</th>\n",
       "      <th>job_title</th>\n",
       "      <th>employee_residence</th>\n",
       "      <th>company_location</th>\n",
       "      <th>company_size</th>\n",
       "      <th>salary_in_cad</th>\n",
       "      <th>remote_status</th>\n",
       "    </tr>\n",
       "  </thead>\n",
       "  <tbody>\n",
       "    <tr>\n",
       "      <th>0</th>\n",
       "      <td>2023</td>\n",
       "      <td>Senior</td>\n",
       "      <td>Full Time</td>\n",
       "      <td>Data Scientist</td>\n",
       "      <td>ES</td>\n",
       "      <td>ES</td>\n",
       "      <td>Large</td>\n",
       "      <td>122761.21</td>\n",
       "      <td>Fully Remote</td>\n",
       "    </tr>\n",
       "    <tr>\n",
       "      <th>1</th>\n",
       "      <td>2023</td>\n",
       "      <td>Mid</td>\n",
       "      <td>Contract</td>\n",
       "      <td>Machine Learning Engineer</td>\n",
       "      <td>US</td>\n",
       "      <td>US</td>\n",
       "      <td>Small</td>\n",
       "      <td>42900.00</td>\n",
       "      <td>Fully Remote</td>\n",
       "    </tr>\n",
       "    <tr>\n",
       "      <th>2</th>\n",
       "      <td>2023</td>\n",
       "      <td>Mid</td>\n",
       "      <td>Contract</td>\n",
       "      <td>Machine Learning Engineer</td>\n",
       "      <td>US</td>\n",
       "      <td>US</td>\n",
       "      <td>Small</td>\n",
       "      <td>36465.00</td>\n",
       "      <td>Fully Remote</td>\n",
       "    </tr>\n",
       "    <tr>\n",
       "      <th>3</th>\n",
       "      <td>2023</td>\n",
       "      <td>Senior</td>\n",
       "      <td>Full Time</td>\n",
       "      <td>Data Scientist</td>\n",
       "      <td>CA</td>\n",
       "      <td>CA</td>\n",
       "      <td>Medium</td>\n",
       "      <td>250250.00</td>\n",
       "      <td>Fully Remote</td>\n",
       "    </tr>\n",
       "    <tr>\n",
       "      <th>4</th>\n",
       "      <td>2023</td>\n",
       "      <td>Senior</td>\n",
       "      <td>Full Time</td>\n",
       "      <td>Data Scientist</td>\n",
       "      <td>CA</td>\n",
       "      <td>CA</td>\n",
       "      <td>Medium</td>\n",
       "      <td>171600.00</td>\n",
       "      <td>Fully Remote</td>\n",
       "    </tr>\n",
       "    <tr>\n",
       "      <th>...</th>\n",
       "      <td>...</td>\n",
       "      <td>...</td>\n",
       "      <td>...</td>\n",
       "      <td>...</td>\n",
       "      <td>...</td>\n",
       "      <td>...</td>\n",
       "      <td>...</td>\n",
       "      <td>...</td>\n",
       "      <td>...</td>\n",
       "    </tr>\n",
       "    <tr>\n",
       "      <th>3750</th>\n",
       "      <td>2020</td>\n",
       "      <td>Senior</td>\n",
       "      <td>Full Time</td>\n",
       "      <td>Data Scientist</td>\n",
       "      <td>US</td>\n",
       "      <td>US</td>\n",
       "      <td>Large</td>\n",
       "      <td>589160.00</td>\n",
       "      <td>Fully Remote</td>\n",
       "    </tr>\n",
       "    <tr>\n",
       "      <th>3751</th>\n",
       "      <td>2021</td>\n",
       "      <td>Mid</td>\n",
       "      <td>Full Time</td>\n",
       "      <td>Data Scientist</td>\n",
       "      <td>US</td>\n",
       "      <td>US</td>\n",
       "      <td>Large</td>\n",
       "      <td>215930.00</td>\n",
       "      <td>Fully Remote</td>\n",
       "    </tr>\n",
       "    <tr>\n",
       "      <th>3752</th>\n",
       "      <td>2020</td>\n",
       "      <td>Entry</td>\n",
       "      <td>Full Time</td>\n",
       "      <td>Data Scientist</td>\n",
       "      <td>US</td>\n",
       "      <td>US</td>\n",
       "      <td>Small</td>\n",
       "      <td>150150.00</td>\n",
       "      <td>Fully Remote</td>\n",
       "    </tr>\n",
       "    <tr>\n",
       "      <th>3753</th>\n",
       "      <td>2020</td>\n",
       "      <td>Entry</td>\n",
       "      <td>Contract</td>\n",
       "      <td>Data Analyst</td>\n",
       "      <td>US</td>\n",
       "      <td>US</td>\n",
       "      <td>Large</td>\n",
       "      <td>143000.00</td>\n",
       "      <td>Fully Remote</td>\n",
       "    </tr>\n",
       "    <tr>\n",
       "      <th>3754</th>\n",
       "      <td>2021</td>\n",
       "      <td>Senior</td>\n",
       "      <td>Full Time</td>\n",
       "      <td>Data Scientist</td>\n",
       "      <td>IN</td>\n",
       "      <td>IN</td>\n",
       "      <td>Large</td>\n",
       "      <td>135370.95</td>\n",
       "      <td>Hybrid</td>\n",
       "    </tr>\n",
       "  </tbody>\n",
       "</table>\n",
       "<p>3753 rows × 9 columns</p>\n",
       "</div>"
      ],
      "text/plain": [
       "      work_year experience_level employment_type                  job_title  \\\n",
       "0          2023           Senior       Full Time             Data Scientist   \n",
       "1          2023              Mid        Contract  Machine Learning Engineer   \n",
       "2          2023              Mid        Contract  Machine Learning Engineer   \n",
       "3          2023           Senior       Full Time             Data Scientist   \n",
       "4          2023           Senior       Full Time             Data Scientist   \n",
       "...         ...              ...             ...                        ...   \n",
       "3750       2020           Senior       Full Time             Data Scientist   \n",
       "3751       2021              Mid       Full Time             Data Scientist   \n",
       "3752       2020            Entry       Full Time             Data Scientist   \n",
       "3753       2020            Entry        Contract               Data Analyst   \n",
       "3754       2021           Senior       Full Time             Data Scientist   \n",
       "\n",
       "     employee_residence company_location company_size  salary_in_cad  \\\n",
       "0                    ES               ES        Large      122761.21   \n",
       "1                    US               US        Small       42900.00   \n",
       "2                    US               US        Small       36465.00   \n",
       "3                    CA               CA       Medium      250250.00   \n",
       "4                    CA               CA       Medium      171600.00   \n",
       "...                 ...              ...          ...            ...   \n",
       "3750                 US               US        Large      589160.00   \n",
       "3751                 US               US        Large      215930.00   \n",
       "3752                 US               US        Small      150150.00   \n",
       "3753                 US               US        Large      143000.00   \n",
       "3754                 IN               IN        Large      135370.95   \n",
       "\n",
       "     remote_status  \n",
       "0     Fully Remote  \n",
       "1     Fully Remote  \n",
       "2     Fully Remote  \n",
       "3     Fully Remote  \n",
       "4     Fully Remote  \n",
       "...            ...  \n",
       "3750  Fully Remote  \n",
       "3751  Fully Remote  \n",
       "3752  Fully Remote  \n",
       "3753  Fully Remote  \n",
       "3754        Hybrid  \n",
       "\n",
       "[3753 rows x 9 columns]"
      ]
     },
     "metadata": {},
     "output_type": "display_data"
    }
   ],
   "source": [
    "#displaying the updated data frame\n",
    "display(df)"
   ]
  },
  {
   "cell_type": "code",
   "execution_count": 20,
   "id": "c9354a94-4d81-4562-a9c9-df4883c34843",
   "metadata": {},
   "outputs": [],
   "source": [
    "df = df[(df['company_location'] == 'US') | (df['company_location'] == 'CA')] "
   ]
  },
  {
   "cell_type": "code",
   "execution_count": 21,
   "id": "ec420d7e",
   "metadata": {},
   "outputs": [
    {
     "data": {
      "text/html": [
       "<div>\n",
       "<style scoped>\n",
       "    .dataframe tbody tr th:only-of-type {\n",
       "        vertical-align: middle;\n",
       "    }\n",
       "\n",
       "    .dataframe tbody tr th {\n",
       "        vertical-align: top;\n",
       "    }\n",
       "\n",
       "    .dataframe thead th {\n",
       "        text-align: right;\n",
       "    }\n",
       "</style>\n",
       "<table border=\"1\" class=\"dataframe\">\n",
       "  <thead>\n",
       "    <tr style=\"text-align: right;\">\n",
       "      <th></th>\n",
       "      <th>work_year</th>\n",
       "      <th>salary_in_cad</th>\n",
       "    </tr>\n",
       "  </thead>\n",
       "  <tbody>\n",
       "    <tr>\n",
       "      <th>count</th>\n",
       "      <td>3127.000000</td>\n",
       "      <td>3127.000000</td>\n",
       "    </tr>\n",
       "    <tr>\n",
       "      <th>mean</th>\n",
       "      <td>2022.456988</td>\n",
       "      <td>216313.565603</td>\n",
       "    </tr>\n",
       "    <tr>\n",
       "      <th>std</th>\n",
       "      <td>0.618536</td>\n",
       "      <td>80442.330414</td>\n",
       "    </tr>\n",
       "    <tr>\n",
       "      <th>min</th>\n",
       "      <td>2020.000000</td>\n",
       "      <td>8120.970000</td>\n",
       "    </tr>\n",
       "    <tr>\n",
       "      <th>25%</th>\n",
       "      <td>2022.000000</td>\n",
       "      <td>161447.000000</td>\n",
       "    </tr>\n",
       "    <tr>\n",
       "      <th>50%</th>\n",
       "      <td>2023.000000</td>\n",
       "      <td>207350.000000</td>\n",
       "    </tr>\n",
       "    <tr>\n",
       "      <th>75%</th>\n",
       "      <td>2023.000000</td>\n",
       "      <td>264550.000000</td>\n",
       "    </tr>\n",
       "    <tr>\n",
       "      <th>max</th>\n",
       "      <td>2023.000000</td>\n",
       "      <td>643500.000000</td>\n",
       "    </tr>\n",
       "  </tbody>\n",
       "</table>\n",
       "</div>"
      ],
      "text/plain": [
       "         work_year  salary_in_cad\n",
       "count  3127.000000    3127.000000\n",
       "mean   2022.456988  216313.565603\n",
       "std       0.618536   80442.330414\n",
       "min    2020.000000    8120.970000\n",
       "25%    2022.000000  161447.000000\n",
       "50%    2023.000000  207350.000000\n",
       "75%    2023.000000  264550.000000\n",
       "max    2023.000000  643500.000000"
      ]
     },
     "execution_count": 21,
     "metadata": {},
     "output_type": "execute_result"
    }
   ],
   "source": [
    "# Generate summary statistics for numerical features\n",
    "\n",
    "df.describe()"
   ]
  },
  {
   "cell_type": "markdown",
   "id": "e8f072eb",
   "metadata": {},
   "source": [
    "The describe function only applies to the salaries_in_cad column. The following observations can be gotten from the summary:\n",
    "\n",
    "- Average salary in cad is 216,313.57 while the standard deviation is 80,442.33. The high standard deviation shows that the salaries have a high variation. \n",
    "\n",
    "- The minimum salary is 8,120.97, which could indicate a part time/contract/freelance job, while the maximum salary is 643,500.00, which could indicate the salary paid by a large company to employees with the highest experience level.\n",
    "\n",
    "- 25% of the data earn less than 161,447.00, while 25% earn more than 264,550.00. The median salary is 207,350.00.\n",
    "\n",
    "- The mean being greater than the median indicates that the salary distribution is right skewed. This is reasonable, as fewer employees are expected to earn the highest salaries."
   ]
  },
  {
   "cell_type": "markdown",
   "id": "f1b6745b",
   "metadata": {},
   "source": [
    "## Detect Outliers"
   ]
  },
  {
   "cell_type": "code",
   "execution_count": 22,
   "id": "87cc1cce-7e2e-4d4e-8e7e-566236371969",
   "metadata": {},
   "outputs": [
    {
     "name": "stdout",
     "output_type": "stream",
     "text": [
      "Q1: 161447.0\n",
      "Q3: 264550.0\n",
      "IQR: 103103.0\n",
      "Lower Bound: 6792.5\n",
      "Upper Bound: 419204.5\n",
      "Number of outliers in Fare: 60\n"
     ]
    }
   ],
   "source": [
    "# Calculate Q1 and Q3\n",
    "Q1 = df['salary_in_cad'].quantile(0.25)\n",
    "Q3 = df['salary_in_cad'].quantile(0.75)\n",
    "IQR = Q3 - Q1\n",
    "\n",
    "print(f\"Q1: {Q1}\")\n",
    "print(f\"Q3: {Q3}\")\n",
    "print(f\"IQR: {IQR}\")\n",
    "\n",
    "# Calculate lower and upper bounds\n",
    "lower_bound = Q1 - 1.5 * IQR\n",
    "upper_bound = Q3 + 1.5 * IQR\n",
    "\n",
    "print(f\"Lower Bound: {lower_bound}\")\n",
    "print(f\"Upper Bound: {upper_bound}\")\n",
    "\n",
    "# Identify outliers\n",
    "outliers = df[(df['salary_in_cad'] < lower_bound) | (df['salary_in_cad'] > upper_bound)]\n",
    "print(f\"Number of outliers in Fare: {outliers.shape[0]}\")"
   ]
  },
  {
   "cell_type": "code",
   "execution_count": 23,
   "id": "71cb8e4c",
   "metadata": {},
   "outputs": [
    {
     "name": "stdout",
     "output_type": "stream",
     "text": [
      "Minimum outlier: 425139.0\n",
      "Maximum outlier: 643500.0\n"
     ]
    }
   ],
   "source": [
    "# display the minimum and maximum outliers\n",
    "\n",
    "print(\"Minimum outlier: {}\".format(outliers['salary_in_cad'].min()))\n",
    "print(\"Maximum outlier: {}\".format(outliers['salary_in_cad'].max()))"
   ]
  },
  {
   "cell_type": "markdown",
   "id": "55262793-81da-41f6-833c-2bf58288aafd",
   "metadata": {},
   "source": [
    "Based on the minimum and maximum outliers above, these values are expected salaries that large companies could pay employees at the highest experience levels. As a result, we would not be removing these values from the dataset, as they could also provide meaningful and important insights"
   ]
  },
  {
   "cell_type": "code",
   "execution_count": 24,
   "id": "1c1f43d5",
   "metadata": {},
   "outputs": [
    {
     "data": {
      "application/vnd.jupyter.widget-view+json": {
       "model_id": "7df2a1210d154aae9eb73371a47a6163",
       "version_major": 2,
       "version_minor": 0
      },
      "text/plain": [
       "interactive(children=(Dropdown(description='year', index=3, options=(2020, 2021, 2022, 2023), value=2023), Out…"
      ]
     },
     "metadata": {},
     "output_type": "display_data"
    },
    {
     "data": {
      "application/vnd.jupyter.widget-view+json": {
       "model_id": "6fad83f2a91746b8abb6fdc54c40a79c",
       "version_major": 2,
       "version_minor": 0
      },
      "text/plain": [
       "FigureWidget({\n",
       "    'data': [{'nbinsx': 100,\n",
       "              'type': 'histogram',\n",
       "              'uid': '133fce65-32b8-4e4f-92e1-be6c8931b4c8',\n",
       "              'x': array([ 42900.,  36465., 250250., ..., 128700., 228800., 193050.])}],\n",
       "    'layout': {'template': '...', 'title': {'text': 'Salary Distribution 2023'}}\n",
       "})"
      ]
     },
     "execution_count": 24,
     "metadata": {},
     "output_type": "execute_result"
    }
   ],
   "source": [
    "bar = go.Histogram()\n",
    "fig_bar = go.FigureWidget(data=bar)\n",
    "\n",
    "@interact(year=[2020, 2021, 2022, 2023])\n",
    "def update_bar(year=2023):\n",
    "    data = df[df['work_year'] == year]['salary_in_cad']\n",
    "    fig_bar.update_traces(\n",
    "                          x=data, nbinsx = 100)\n",
    "    fig_bar.update_layout(title_text=\"Salary Distribution {0}\".format(year))\n",
    "\n",
    "fig_bar"
   ]
  },
  {
   "cell_type": "code",
   "execution_count": 25,
   "id": "34f374de",
   "metadata": {},
   "outputs": [
    {
     "data": {
      "image/png": "[encoded data removed]",
      "text/plain": [
       "<Figure size 1080x864 with 3 Axes>"
      ]
     },
     "metadata": {
      "needs_background": "light"
     },
     "output_type": "display_data"
    }
   ],
   "source": [
    "fig, ax = plt.subplots(3, 1, figsize=(15, 12))\n",
    "\n",
    "ax[0].hist(df[df['company_size'] == 'Large']['salary_in_cad']);\n",
    "ax[1].hist(df[df['company_size'] == 'Medium']['salary_in_cad']);\n",
    "ax[2].hist(df[df['company_size'] == 'Small']['salary_in_cad']);"
   ]
  },
  {
   "cell_type": "code",
   "execution_count": 26,
   "id": "00a11545",
   "metadata": {},
   "outputs": [
    {
     "data": {
      "image/png": "[encoded data removed]",
      "text/plain": [
       "<Figure size 864x576 with 1 Axes>"
      ]
     },
     "metadata": {
      "needs_background": "light"
     },
     "output_type": "display_data"
    }
   ],
   "source": [
    "plt.figure(figsize=(12, 8))\n",
    "sns.countplot(data = df, x = 'work_year', hue = 'remote_status')\n",
    "plt.xlabel('Year')\n",
    "plt.legend(title = 'Remote Status')\n",
    "plt.show()"
   ]
  },
  {
   "cell_type": "markdown",
   "id": "a824d6e2",
   "metadata": {},
   "source": [
    "#### What are the proportions of employment types in the Data Science field?"
   ]
  },
  {
   "cell_type": "code",
   "execution_count": 27,
   "id": "c60d6f78",
   "metadata": {},
   "outputs": [
    {
     "data": {
      "image/png": "[encoded data removed]",
      "text/plain": [
       "<Figure size 720x432 with 1 Axes>"
      ]
     },
     "metadata": {
      "needs_background": "light"
     },
     "output_type": "display_data"
    }
   ],
   "source": [
    "freq = df['employment_type'].value_counts()\n",
    "\n",
    "# Get the indexes of the series\n",
    "title_order = freq.index\n",
    "\n",
    "plt.figure(figsize=(10, 6))\n",
    "\n",
    "sns.countplot(data = df, x = 'employment_type', order = title_order)\n",
    "plt.xlabel('Employment Type')\n",
    "plt.show()"
   ]
  },
  {
   "cell_type": "code",
   "execution_count": 28,
   "id": "fb6480b4",
   "metadata": {},
   "outputs": [
    {
     "data": {
      "text/plain": [
       "Senior       2323\n",
       "Mid           512\n",
       "Entry         190\n",
       "Executive     102\n",
       "Name: experience_level, dtype: int64"
      ]
     },
     "execution_count": 28,
     "metadata": {},
     "output_type": "execute_result"
    }
   ],
   "source": [
    "experience_count = df['experience_level'].value_counts()\n",
    "experience_count"
   ]
  },
  {
   "cell_type": "code",
   "execution_count": 29,
   "id": "b9c123dd",
   "metadata": {},
   "outputs": [
    {
     "data": {
      "text/plain": [
       "array([2323,  512,  190,  102])"
      ]
     },
     "execution_count": 29,
     "metadata": {},
     "output_type": "execute_result"
    }
   ],
   "source": [
    "experience_count.values"
   ]
  },
  {
   "cell_type": "code",
   "execution_count": 30,
   "id": "cd65f715",
   "metadata": {},
   "outputs": [
    {
     "data": {
      "image/png": "[encoded data removed]",
      "text/plain": [
       "<Figure size 864x576 with 1 Axes>"
      ]
     },
     "metadata": {},
     "output_type": "display_data"
    }
   ],
   "source": [
    "plt.figure(figsize=(12, 8))\n",
    "plt.pie(experience_count.values, labels = experience_count.index, autopct='%1.2f%%', shadow=True)\n",
    "plt.title(\"Proportion of Experience Levels\")\n",
    "plt.axis('equal')\n",
    "plt.show()"
   ]
  },
  {
   "cell_type": "code",
   "execution_count": 31,
   "id": "2f5aa04b",
   "metadata": {},
   "outputs": [
    {
     "data": {
      "image/png": "[encoded data removed]",
      "text/plain": [
       "<Figure size 1080x864 with 1 Axes>"
      ]
     },
     "metadata": {
      "needs_background": "light"
     },
     "output_type": "display_data"
    }
   ],
   "source": [
    "plt.figure(figsize=(15, 12))\n",
    "sns.boxplot(data=df, x='company_location', y='salary_in_cad', hue = 'company_size')\n",
    "plt.xlabel('Company Location')\n",
    "plt.ylabel('Salary in CAD')\n",
    "plt.legend(title = 'Company Size')\n",
    "plt.show()"
   ]
  },
  {
   "cell_type": "code",
   "execution_count": 32,
   "id": "9cfd1ce7",
   "metadata": {},
   "outputs": [],
   "source": [
    "#finding the top 5 data science industry positions\n",
    "job_total = df['job_title'].value_counts()"
   ]
  },
  {
   "cell_type": "code",
   "execution_count": 40,
   "id": "cab807a5",
   "metadata": {},
   "outputs": [
    {
     "data": {
      "image/png": "[encoded data removed]",
      "text/plain": [
       "<Figure size 864x576 with 1 Axes>"
      ]
     },
     "metadata": {
      "needs_background": "light"
     },
     "output_type": "display_data"
    }
   ],
   "source": [
    "#creating a bar chart that shows the distribution of job titles \n",
    "\n",
    "plt.figure(figsize=(12, 8))\n",
    "plt.bar(job_total.index, job_total.values, color='skyblue')\n",
    "plt.title(\"Data Science Jobs Distribution\")\n",
    "plt.xlabel(\"Category\")\n",
    "plt.ylabel(\"Value\")\n",
    "plt.show()\n"
   ]
  },
  {
   "cell_type": "markdown",
   "id": "2e9fc727-c79a-4315-a438-589b99ab2c8d",
   "metadata": {},
   "source": [
    "This visualization shows the different job titles shown on our dataset along the x-axis, with their corresponding frequency displayed along the y-axis. This allows us to easily view the distribution of the various job titles in our dataset."
   ]
  },
  {
   "cell_type": "code",
   "execution_count": 34,
   "id": "04a1eba0-2a9e-4c9c-a29d-4c5de576d4c8",
   "metadata": {},
   "outputs": [
    {
     "data": {
      "image/png": "[encoded data removed]",
      "text/plain": [
       "<Figure size 432x288 with 1 Axes>"
      ]
     },
     "metadata": {
      "needs_background": "light"
     },
     "output_type": "display_data"
    }
   ],
   "source": [
    "#creating a line plot to show the growth of the data science field over the past four years\n",
    "\n",
    "growth_rate = df['work_year'].value_counts()\n",
    "plt.figure(figsize=(6,4))\n",
    "plt.plot(growth_rate.index,growth_rate.values)\n",
    "plt.xticks(growth_rate.index)\n",
    "plt.xlabel('Year')\n",
    "plt.ylabel('Number of Jobs')\n",
    "plt.title('Data Science Jobs Rate Change (2020-2023)')\n",
    "plt.show()"
   ]
  },
  {
   "cell_type": "markdown",
   "id": "8af88566-66a6-4ecd-8f3d-7e86915889ab",
   "metadata": {},
   "source": [
    "This plot shows the data science trends from 2020-2023. The plot shows the years along the x-axis and the job value counts along the y-axis. There is a significant jump in data science roles from 2021-2022 signifying a boom in the industry during those years. "
   ]
  },
  {
   "cell_type": "markdown",
   "id": "cae05653",
   "metadata": {},
   "source": [
    "## Hypothesis Testing"
   ]
  },
  {
   "cell_type": "markdown",
   "id": "a1f91b5d",
   "metadata": {},
   "source": [
    "Hypothesis testing would be performed on some variables of the dataset. T test would be performed on the continuous variable (salaries) while chi squared test would be performed on some categorical variables"
   ]
  },
  {
   "cell_type": "markdown",
   "id": "e7b7a614",
   "metadata": {},
   "source": [
    "### T-Test"
   ]
  },
  {
   "cell_type": "markdown",
   "id": "88148291",
   "metadata": {},
   "source": [
    "Define Null and Alternate Hypotheses\n",
    "\n",
    "- Null Hypothesis: There is no significant difference between the salaries of two selected job titles\n",
    "- Alternate Hypothesis: There is a significant difference between the salaries of two selected job titles"
   ]
  },
  {
   "cell_type": "code",
   "execution_count": 35,
   "id": "928f97cd",
   "metadata": {},
   "outputs": [],
   "source": [
    "# define function to compute the t-test of salaries between job titles using a significance level of 0.05\n",
    "\n",
    "def ttest(df, type1, type2, salary_in_cad):\n",
    "    df1 = df[df['job_title'] == type1]\n",
    "    df2 = df[df['job_title'] == type2]\n",
    "\n",
    "    #determine the pvalue of the t-test\n",
    "\n",
    "    test = ttest_ind(df1[salary_in_cad], df2[salary_in_cad])\n",
    "\n",
    "    print('The pvalue of the t-test is: {}'.format(test.pvalue))\n",
    "\n",
    "    if test.pvalue < 0.05:\n",
    "        return('There is a significant difference between the salaries of {}s and {}s'.format(type1, type2))\n",
    "    else:\n",
    "        return('There is no significant difference between the salaries of {}s and {}s'.format(type1, type2))"
   ]
  },
  {
   "cell_type": "code",
   "execution_count": 36,
   "id": "6676d92d",
   "metadata": {},
   "outputs": [
    {
     "name": "stdout",
     "output_type": "stream",
     "text": [
      "The pvalue of the t-test is: 7.5721355275083655e-56\n"
     ]
    },
    {
     "data": {
      "text/plain": [
       "'There is a significant difference between the salaries of Data Scientists and Data Analysts'"
      ]
     },
     "execution_count": 36,
     "metadata": {},
     "output_type": "execute_result"
    }
   ],
   "source": [
    "# run the function on Data Scientist and Data Analyst salaries\n",
    "\n",
    "ttest(df, 'Data Scientist', 'Data Analyst', 'salary_in_cad')"
   ]
  },
  {
   "cell_type": "markdown",
   "id": "b3fcf4fb",
   "metadata": {},
   "source": [
    "### Chi-Squared Test"
   ]
  },
  {
   "cell_type": "markdown",
   "id": "1d2fef6b",
   "metadata": {},
   "source": [
    "Define Null and Alternate Hypotheses\n",
    "\n",
    "- Null Hypothesis: The two variables are independent and there is no relationship\n",
    "- Alternate Hypothesis: The two variables are dependent and there is a relationship"
   ]
  },
  {
   "cell_type": "code",
   "execution_count": 37,
   "id": "1068f2ca",
   "metadata": {},
   "outputs": [],
   "source": [
    "# define function to compute the chi-squared test of two actegorical variables using a significance level of 0.05\n",
    "\n",
    "def chi(df, column1, column2):\n",
    "    \n",
    "    # create frequency table of variables to be used for chi-squared test\n",
    "    df_chi = pd.crosstab(df[column1], df[column2])\n",
    "    \n",
    "    # run chi-squared test\n",
    "    test = chi2_contingency(df_chi)\n",
    "    \n",
    "    # determine the pvalue of the test\n",
    "    print('The pvalue of the t-test is: {}'.format(test[1]))\n",
    "\n",
    "    if test[1] < 0.05:\n",
    "        return('{} and {} are dependent variables and there is a relationship between them'.format(column1, column2))\n",
    "    else:\n",
    "        return('{} and {} are independent variables and there is no relationship between them'.format(column1, column2))"
   ]
  },
  {
   "cell_type": "code",
   "execution_count": 38,
   "id": "a3e534da",
   "metadata": {},
   "outputs": [
    {
     "name": "stdout",
     "output_type": "stream",
     "text": [
      "The pvalue of the t-test is: 7.639310513261271e-11\n"
     ]
    },
    {
     "data": {
      "text/plain": [
       "'job_title and remote_status are dependent variables and there is a relationship between them'"
      ]
     },
     "execution_count": 38,
     "metadata": {},
     "output_type": "execute_result"
    }
   ],
   "source": [
    "# run the function on job_title and remote_status columns\n",
    "\n",
    "chi(df, 'job_title', 'remote_status')"
   ]
  },
  {
   "cell_type": "code",
   "execution_count": 39,
   "id": "6575b1f9",
   "metadata": {},
   "outputs": [
    {
     "name": "stdout",
     "output_type": "stream",
     "text": [
      "The pvalue of the t-test is: 1.3310479656308387e-34\n"
     ]
    },
    {
     "data": {
      "text/plain": [
       "'experience_level and company_size are dependent variables and there is a relationship between them'"
      ]
     },
     "execution_count": 39,
     "metadata": {},
     "output_type": "execute_result"
    }
   ],
   "source": [
    "# run the function on experience_level company_size columns\n",
    "\n",
    "chi(df, 'experience_level', 'company_size')"
   ]
  }
 ],
 "metadata": {
  "kernelspec": {
   "display_name": "Python [conda env:base] *",
   "language": "python",
   "name": "conda-base-py"
  },
  "language_info": {
   "codemirror_mode": {
    "name": "ipython",
    "version": 3
   },
   "file_extension": ".py",
   "mimetype": "text/x-python",
   "name": "python",
   "nbconvert_exporter": "python",
   "pygments_lexer": "ipython3",
   "version": "3.12.7"
  }
 },
 "nbformat": 4,
 "nbformat_minor": 5
}
