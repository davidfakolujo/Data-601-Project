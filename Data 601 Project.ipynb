{
 "cells": [
  {
   "cell_type": "markdown",
   "id": "3e00a422",
   "metadata": {},
   "source": [
    "<h1 style=\"text-align: center\">Analysis of Data Science Jobs Between 2020 and 2023</h1>\n",
    "\n",
    "<h3 style=\"text-align: center\">by</h3>\n",
    "\n",
    "<h2 style=\"text-align: center\">Akinyemi Apampa and David Fakolujo</h2>"
   ]
  },
  {
   "cell_type": "markdown",
   "id": "8cf17e7c",
   "metadata": {},
   "source": [
    "<div style=\"text-align: center\">\n",
    "    <img src = \"data-science-job-titles.png\" alt = \"Project Image\">\n",
    "</div>\n",
    "<p style=\"text-align: center\"><i>Image source: <a href = \"https://clarusway.com/data-science-jobs-you-can-apply/\">Clarusway</i></a></p>"
   ]
  },
  {
   "cell_type": "markdown",
   "id": "6ce3d264",
   "metadata": {},
   "source": [
    "## Outline\n",
    "\n",
    "<ul>\n",
    "<li><a href=\"#intro\">Introduction</a></li>\n",
    "<li><a href=\"#dataset\"> Dataset</a></li>\n",
    "<li><a href=\"#questions\">Guiding Questions</a></li>\n",
    "<li><a href=\"#loading\">Data Loading</a></li>\n",
    "<li><a href=\"#preprocessing\">Preprocessing</a></li>\n",
    "<li><a href=\"#eda\">Exploratory Data Analysis</a></li>\n",
    "<li><a href=\"#conclusion\">Conclusion</a></li>\n",
    "</ul>"
   ]
  },
  {
   "cell_type": "markdown",
   "id": "f00775de",
   "metadata": {},
   "source": [
    "<a id='intro'></a>\n",
    "## Introduction\n",
    "\n",
    "Data Science is a broad field that uses scientific methods such as programming and statistics to extract meaningful insights from different forms of data. The field can be applied across diverse sectors to support data-driven decision making.\n",
    "\n",
    "Since the Covid-19 pandemic, the demand for professionals in the data science field has experienced a substantial growth. This project explores the attributes surrounding Data Science jobs between 2020 and 2023.\n",
    "\n",
    "The insights generated from this dataset’s exploration will be valuable to professionals seeking to transition into the data science field, as well as those already in the field, looking to widen their expertise or transform within the field."
   ]
  },
  {
   "cell_type": "markdown",
   "id": "cdbd8ef3",
   "metadata": {},
   "source": [
    "<a id='dataset'></a>\n",
    "## Dataset\n",
    "\n",
    "The primary analysis will be conducted using a dataset from Kaggle, which contains data on data science jobs between 2020 and 2023. This is a singular, structured dataset that contains 3,755 rows and 11 columns consisting of key variables related to jobs in the data science field.\n",
    "\n",
    "A complementary analysis will focus on the skills variable from a separate dataset, also retrieved from Kaggle. The dataset contains 12,217 rows that each contain skills required for data science related jobs posted on LinkedIn in January 2024.\n",
    "\n",
    "Both datasets are publicly available on Kaggle, and we have permission to use them, as Kaggle is an open data source.\n",
    "\n",
    "More information about the variables in the data science jobs dataset (2020 - 2023) are as follows:\n",
    "\n",
    "- **work_year**: the year the salary was paid\n",
    "- **experience_level**: The experience level in the job during the year\n",
    "    * EN - Entry-level / Junior\n",
    "    * MI -Mid-level / Intermediate\n",
    "    * SE -Senior-level / Expert\n",
    "    * EX - Executive-level / Director\n",
    "- **employment_type**: The type of employment for the role\n",
    "    * PT - Part-time\n",
    "    * FT - Full-time\n",
    "    * CT - Contract\n",
    "    * FL - Freelance\n",
    "- **job_title**: The role worked in during the year\n",
    "- **salary**: The total gross salary amount paid\n",
    "- **salary_currency**: The currency of the salary paid as an ISO 4217 currency code \n",
    "- **salary_in_usd**: The salary in USD\n",
    "- **employee_residence**: Employee's primary country of residence in during the work year as an ISO 3166 country code\n",
    "- **remote_ratio**: The overall amount of work done remotely\n",
    "    * 0 - No remote work (less than 20%)\n",
    "    * 50 - Partially remote/hybird\n",
    "    * 100 - Fully remote (more than 80%)\n",
    "- **company_location**: The country of the employer's main office or contracting branch \n",
    "- **company_size**: The median number of people that worked for the company during the year\n",
    "    * S - less than 50 employees (small)\n",
    "    * M - 50 to 250 employees (medium)\n",
    "    * L - more than 250 employees (large)"
   ]
  },
  {
   "cell_type": "markdown",
   "id": "aa074c2d",
   "metadata": {},
   "source": [
    "<a id='questions'></a>\n",
    "## Guiding Questions\n",
    "\n",
    "**1**. What has been the growth rate in Data Science jobs in the past four years? \n",
    "\n",
    "This would inform people on whether Data Science has been a growing or declining field over the past four years. It would also provide insights to the availability and importance of Data Science jobs globally.\n",
    "\n",
    "**2**. What is the overall distribution of salaries in the dataset, as well as the salary distribution across categorical variables, such as experience level, company size, remote status?\n",
    "\n",
    "This analysis would give Data Scientists an idea of the salary expectations as they grow in experience and interact with different companies. It could also help with salary discussions before accepting job offers from companies.\n",
    "\n",
    "**3**. What has been the trend over time of remote jobs in the Data Science field? \n",
    "\n",
    "Background context - Many companies now offer the option to work remotely. This analysis would give a job seeker an idea of the likelihood of securing a remote job.\n",
    "\n",
    "**4**. What has the distribution of Data Science job titles been over the years, as well as the distribution per experience level and remote status?\n",
    "\n",
    "This analysis can inform job seekers which roles are more popular and which roles are scarce. It can also guide people on which jobs to apply for, based on the demand for certain job titles.\n",
    "\n",
    "**5**. What are the in demand skills in the Data Science field?\n",
    "\n",
    "Background context - This would help job seekers have an idea of which skills to focus on in order to increase employability and to stay relevant in the Data Science field.\n",
    "\n",
    "**6**. What are the proportions of employment types in the Data Science field?\n",
    "\n",
    "Background context - This insight can help job seekers understand the distribution of Data Science roles in organizations and identify which employment types are most and least preferred. This can also improve job search by targeting specific job platforms that post jobs with specific employment types.\n"
   ]
  },
  {
   "cell_type": "markdown",
   "id": "43cb35d0",
   "metadata": {},
   "source": [
    "<a id='analysis'></a>\n",
    "## Analysis"
   ]
  },
  {
   "cell_type": "markdown",
   "id": "9e117669",
   "metadata": {},
   "source": [
    "#### Load and inspect the dataset"
   ]
  },
  {
   "cell_type": "code",
   "execution_count": 1,
   "id": "ca5a5ff8-6639-4116-98da-00f812b62b16",
   "metadata": {},
   "outputs": [],
   "source": [
    "# import libraries and set plots to be embedded inline\n",
    "\n",
    "import pandas as pd\n",
    "import numpy as np\n",
    "import matplotlib.pyplot as plt\n",
    "import seaborn as sns\n",
    "import scipy.stats as stats\n",
    "import math\n",
    "import regex as re\n",
    "from scipy.stats import ttest_ind, chi2_contingency\n",
    "import ipywidgets as widgets\n",
    "from ipywidgets import interact\n",
    "import plotly.graph_objs as go\n",
    "\n",
    "%matplotlib inline"
   ]
  },
  {
   "cell_type": "code",
   "execution_count": 2,
   "id": "52303cc3-90ab-4015-85ea-aff48336e085",
   "metadata": {},
   "outputs": [],
   "source": [
    "# load dataset\n",
    "\n",
    "df = pd.read_csv(\"ds_salaries.csv\")"
   ]
  },
  {
   "cell_type": "code",
   "execution_count": 3,
   "id": "e7d73743",
   "metadata": {},
   "outputs": [
    {
     "data": {
      "text/html": [
       "<div>\n",
       "<style scoped>\n",
       "    .dataframe tbody tr th:only-of-type {\n",
       "        vertical-align: middle;\n",
       "    }\n",
       "\n",
       "    .dataframe tbody tr th {\n",
       "        vertical-align: top;\n",
       "    }\n",
       "\n",
       "    .dataframe thead th {\n",
       "        text-align: right;\n",
       "    }\n",
       "</style>\n",
       "<table border=\"1\" class=\"dataframe\">\n",
       "  <thead>\n",
       "    <tr style=\"text-align: right;\">\n",
       "      <th></th>\n",
       "      <th>work_year</th>\n",
       "      <th>experience_level</th>\n",
       "      <th>employment_type</th>\n",
       "      <th>job_title</th>\n",
       "      <th>salary</th>\n",
       "      <th>salary_currency</th>\n",
       "      <th>salary_in_usd</th>\n",
       "      <th>employee_residence</th>\n",
       "      <th>remote_ratio</th>\n",
       "      <th>company_location</th>\n",
       "      <th>company_size</th>\n",
       "    </tr>\n",
       "  </thead>\n",
       "  <tbody>\n",
       "    <tr>\n",
       "      <th>0</th>\n",
       "      <td>2023</td>\n",
       "      <td>SE</td>\n",
       "      <td>FT</td>\n",
       "      <td>Principal Data Scientist</td>\n",
       "      <td>80000</td>\n",
       "      <td>EUR</td>\n",
       "      <td>85847</td>\n",
       "      <td>ES</td>\n",
       "      <td>100</td>\n",
       "      <td>ES</td>\n",
       "      <td>L</td>\n",
       "    </tr>\n",
       "    <tr>\n",
       "      <th>1</th>\n",
       "      <td>2023</td>\n",
       "      <td>MI</td>\n",
       "      <td>CT</td>\n",
       "      <td>ML Engineer</td>\n",
       "      <td>30000</td>\n",
       "      <td>USD</td>\n",
       "      <td>30000</td>\n",
       "      <td>US</td>\n",
       "      <td>100</td>\n",
       "      <td>US</td>\n",
       "      <td>S</td>\n",
       "    </tr>\n",
       "    <tr>\n",
       "      <th>2</th>\n",
       "      <td>2023</td>\n",
       "      <td>MI</td>\n",
       "      <td>CT</td>\n",
       "      <td>ML Engineer</td>\n",
       "      <td>25500</td>\n",
       "      <td>USD</td>\n",
       "      <td>25500</td>\n",
       "      <td>US</td>\n",
       "      <td>100</td>\n",
       "      <td>US</td>\n",
       "      <td>S</td>\n",
       "    </tr>\n",
       "    <tr>\n",
       "      <th>3</th>\n",
       "      <td>2023</td>\n",
       "      <td>SE</td>\n",
       "      <td>FT</td>\n",
       "      <td>Data Scientist</td>\n",
       "      <td>175000</td>\n",
       "      <td>USD</td>\n",
       "      <td>175000</td>\n",
       "      <td>CA</td>\n",
       "      <td>100</td>\n",
       "      <td>CA</td>\n",
       "      <td>M</td>\n",
       "    </tr>\n",
       "    <tr>\n",
       "      <th>4</th>\n",
       "      <td>2023</td>\n",
       "      <td>SE</td>\n",
       "      <td>FT</td>\n",
       "      <td>Data Scientist</td>\n",
       "      <td>120000</td>\n",
       "      <td>USD</td>\n",
       "      <td>120000</td>\n",
       "      <td>CA</td>\n",
       "      <td>100</td>\n",
       "      <td>CA</td>\n",
       "      <td>M</td>\n",
       "    </tr>\n",
       "  </tbody>\n",
       "</table>\n",
       "</div>"
      ],
      "text/plain": [
       "   work_year experience_level employment_type                 job_title  \\\n",
       "0       2023               SE              FT  Principal Data Scientist   \n",
       "1       2023               MI              CT               ML Engineer   \n",
       "2       2023               MI              CT               ML Engineer   \n",
       "3       2023               SE              FT            Data Scientist   \n",
       "4       2023               SE              FT            Data Scientist   \n",
       "\n",
       "   salary salary_currency  salary_in_usd employee_residence  remote_ratio  \\\n",
       "0   80000             EUR          85847                 ES           100   \n",
       "1   30000             USD          30000                 US           100   \n",
       "2   25500             USD          25500                 US           100   \n",
       "3  175000             USD         175000                 CA           100   \n",
       "4  120000             USD         120000                 CA           100   \n",
       "\n",
       "  company_location company_size  \n",
       "0               ES            L  \n",
       "1               US            S  \n",
       "2               US            S  \n",
       "3               CA            M  \n",
       "4               CA            M  "
      ]
     },
     "metadata": {},
     "output_type": "display_data"
    }
   ],
   "source": [
    "# view dataset head\n",
    "\n",
    "display(df.head())"
   ]
  },
  {
   "cell_type": "code",
   "execution_count": 4,
   "id": "33c9ad3e",
   "metadata": {},
   "outputs": [
    {
     "name": "stdout",
     "output_type": "stream",
     "text": [
      "<class 'pandas.core.frame.DataFrame'>\n",
      "RangeIndex: 3755 entries, 0 to 3754\n",
      "Data columns (total 11 columns):\n",
      " #   Column              Non-Null Count  Dtype \n",
      "---  ------              --------------  ----- \n",
      " 0   work_year           3755 non-null   int64 \n",
      " 1   experience_level    3755 non-null   object\n",
      " 2   employment_type     3755 non-null   object\n",
      " 3   job_title           3755 non-null   object\n",
      " 4   salary              3755 non-null   int64 \n",
      " 5   salary_currency     3755 non-null   object\n",
      " 6   salary_in_usd       3755 non-null   int64 \n",
      " 7   employee_residence  3755 non-null   object\n",
      " 8   remote_ratio        3755 non-null   int64 \n",
      " 9   company_location    3755 non-null   object\n",
      " 10  company_size        3755 non-null   object\n",
      "dtypes: int64(4), object(7)\n",
      "memory usage: 322.8+ KB\n"
     ]
    },
    {
     "data": {
      "text/plain": [
       "None"
      ]
     },
     "metadata": {},
     "output_type": "display_data"
    }
   ],
   "source": [
    "# view dataset info\n",
    "\n",
    "display(df.info())"
   ]
  },
  {
   "cell_type": "markdown",
   "id": "e31ef602",
   "metadata": {},
   "source": [
    "> The output above indicates that the dataset does not contain any missing data"
   ]
  },
  {
   "cell_type": "markdown",
   "id": "ef84ed9c",
   "metadata": {},
   "source": [
    "#### Drop irrelevant columns\n",
    "\n",
    "The salary column consists of salaries in different currencies, which will not give a consistent basis for the analysis of the salary behavior. Therefore, we will be using the salary_in_usd column for the analysis of salaries. As a result, the salary and salary_currency columns will be dropped.\n",
    "\n",
    "In addition, since the initial audience for the analysis is based in Canada, a new column will be created to represent the salaries in Canadian Dollars (CAD), instead of United States Dollars (USD). This will be done by multiplying the salary_in_usd column by the exchange rate on a selected date.\n",
    "\n",
    "The salary_in_usd column will also be dropped after."
   ]
  },
  {
   "cell_type": "code",
   "execution_count": 5,
   "id": "df19bf27-a832-496c-ab47-422d8d86ce9a",
   "metadata": {},
   "outputs": [
    {
     "data": {
      "text/html": [
       "<div>\n",
       "<style scoped>\n",
       "    .dataframe tbody tr th:only-of-type {\n",
       "        vertical-align: middle;\n",
       "    }\n",
       "\n",
       "    .dataframe tbody tr th {\n",
       "        vertical-align: top;\n",
       "    }\n",
       "\n",
       "    .dataframe thead th {\n",
       "        text-align: right;\n",
       "    }\n",
       "</style>\n",
       "<table border=\"1\" class=\"dataframe\">\n",
       "  <thead>\n",
       "    <tr style=\"text-align: right;\">\n",
       "      <th></th>\n",
       "      <th>work_year</th>\n",
       "      <th>experience_level</th>\n",
       "      <th>employment_type</th>\n",
       "      <th>job_title</th>\n",
       "      <th>salary_in_usd</th>\n",
       "      <th>employee_residence</th>\n",
       "      <th>remote_ratio</th>\n",
       "      <th>company_location</th>\n",
       "      <th>company_size</th>\n",
       "    </tr>\n",
       "  </thead>\n",
       "  <tbody>\n",
       "    <tr>\n",
       "      <th>0</th>\n",
       "      <td>2023</td>\n",
       "      <td>SE</td>\n",
       "      <td>FT</td>\n",
       "      <td>Principal Data Scientist</td>\n",
       "      <td>85847</td>\n",
       "      <td>ES</td>\n",
       "      <td>100</td>\n",
       "      <td>ES</td>\n",
       "      <td>L</td>\n",
       "    </tr>\n",
       "    <tr>\n",
       "      <th>1</th>\n",
       "      <td>2023</td>\n",
       "      <td>MI</td>\n",
       "      <td>CT</td>\n",
       "      <td>ML Engineer</td>\n",
       "      <td>30000</td>\n",
       "      <td>US</td>\n",
       "      <td>100</td>\n",
       "      <td>US</td>\n",
       "      <td>S</td>\n",
       "    </tr>\n",
       "    <tr>\n",
       "      <th>2</th>\n",
       "      <td>2023</td>\n",
       "      <td>MI</td>\n",
       "      <td>CT</td>\n",
       "      <td>ML Engineer</td>\n",
       "      <td>25500</td>\n",
       "      <td>US</td>\n",
       "      <td>100</td>\n",
       "      <td>US</td>\n",
       "      <td>S</td>\n",
       "    </tr>\n",
       "    <tr>\n",
       "      <th>3</th>\n",
       "      <td>2023</td>\n",
       "      <td>SE</td>\n",
       "      <td>FT</td>\n",
       "      <td>Data Scientist</td>\n",
       "      <td>175000</td>\n",
       "      <td>CA</td>\n",
       "      <td>100</td>\n",
       "      <td>CA</td>\n",
       "      <td>M</td>\n",
       "    </tr>\n",
       "    <tr>\n",
       "      <th>4</th>\n",
       "      <td>2023</td>\n",
       "      <td>SE</td>\n",
       "      <td>FT</td>\n",
       "      <td>Data Scientist</td>\n",
       "      <td>120000</td>\n",
       "      <td>CA</td>\n",
       "      <td>100</td>\n",
       "      <td>CA</td>\n",
       "      <td>M</td>\n",
       "    </tr>\n",
       "    <tr>\n",
       "      <th>...</th>\n",
       "      <td>...</td>\n",
       "      <td>...</td>\n",
       "      <td>...</td>\n",
       "      <td>...</td>\n",
       "      <td>...</td>\n",
       "      <td>...</td>\n",
       "      <td>...</td>\n",
       "      <td>...</td>\n",
       "      <td>...</td>\n",
       "    </tr>\n",
       "    <tr>\n",
       "      <th>3750</th>\n",
       "      <td>2020</td>\n",
       "      <td>SE</td>\n",
       "      <td>FT</td>\n",
       "      <td>Data Scientist</td>\n",
       "      <td>412000</td>\n",
       "      <td>US</td>\n",
       "      <td>100</td>\n",
       "      <td>US</td>\n",
       "      <td>L</td>\n",
       "    </tr>\n",
       "    <tr>\n",
       "      <th>3751</th>\n",
       "      <td>2021</td>\n",
       "      <td>MI</td>\n",
       "      <td>FT</td>\n",
       "      <td>Principal Data Scientist</td>\n",
       "      <td>151000</td>\n",
       "      <td>US</td>\n",
       "      <td>100</td>\n",
       "      <td>US</td>\n",
       "      <td>L</td>\n",
       "    </tr>\n",
       "    <tr>\n",
       "      <th>3752</th>\n",
       "      <td>2020</td>\n",
       "      <td>EN</td>\n",
       "      <td>FT</td>\n",
       "      <td>Data Scientist</td>\n",
       "      <td>105000</td>\n",
       "      <td>US</td>\n",
       "      <td>100</td>\n",
       "      <td>US</td>\n",
       "      <td>S</td>\n",
       "    </tr>\n",
       "    <tr>\n",
       "      <th>3753</th>\n",
       "      <td>2020</td>\n",
       "      <td>EN</td>\n",
       "      <td>CT</td>\n",
       "      <td>Business Data Analyst</td>\n",
       "      <td>100000</td>\n",
       "      <td>US</td>\n",
       "      <td>100</td>\n",
       "      <td>US</td>\n",
       "      <td>L</td>\n",
       "    </tr>\n",
       "    <tr>\n",
       "      <th>3754</th>\n",
       "      <td>2021</td>\n",
       "      <td>SE</td>\n",
       "      <td>FT</td>\n",
       "      <td>Data Science Manager</td>\n",
       "      <td>94665</td>\n",
       "      <td>IN</td>\n",
       "      <td>50</td>\n",
       "      <td>IN</td>\n",
       "      <td>L</td>\n",
       "    </tr>\n",
       "  </tbody>\n",
       "</table>\n",
       "<p>3755 rows × 9 columns</p>\n",
       "</div>"
      ],
      "text/plain": [
       "      work_year experience_level employment_type                 job_title  \\\n",
       "0          2023               SE              FT  Principal Data Scientist   \n",
       "1          2023               MI              CT               ML Engineer   \n",
       "2          2023               MI              CT               ML Engineer   \n",
       "3          2023               SE              FT            Data Scientist   \n",
       "4          2023               SE              FT            Data Scientist   \n",
       "...         ...              ...             ...                       ...   \n",
       "3750       2020               SE              FT            Data Scientist   \n",
       "3751       2021               MI              FT  Principal Data Scientist   \n",
       "3752       2020               EN              FT            Data Scientist   \n",
       "3753       2020               EN              CT     Business Data Analyst   \n",
       "3754       2021               SE              FT      Data Science Manager   \n",
       "\n",
       "      salary_in_usd employee_residence  remote_ratio company_location  \\\n",
       "0             85847                 ES           100               ES   \n",
       "1             30000                 US           100               US   \n",
       "2             25500                 US           100               US   \n",
       "3            175000                 CA           100               CA   \n",
       "4            120000                 CA           100               CA   \n",
       "...             ...                ...           ...              ...   \n",
       "3750         412000                 US           100               US   \n",
       "3751         151000                 US           100               US   \n",
       "3752         105000                 US           100               US   \n",
       "3753         100000                 US           100               US   \n",
       "3754          94665                 IN            50               IN   \n",
       "\n",
       "     company_size  \n",
       "0               L  \n",
       "1               S  \n",
       "2               S  \n",
       "3               M  \n",
       "4               M  \n",
       "...           ...  \n",
       "3750            L  \n",
       "3751            L  \n",
       "3752            S  \n",
       "3753            L  \n",
       "3754            L  \n",
       "\n",
       "[3755 rows x 9 columns]"
      ]
     },
     "metadata": {},
     "output_type": "display_data"
    }
   ],
   "source": [
    "# drop irrelevant columns\n",
    "\n",
    "df.drop(['salary','salary_currency'], axis = 1, inplace = True)\n",
    "display(df)"
   ]
  },
  {
   "cell_type": "code",
   "execution_count": 6,
   "id": "b13095e0",
   "metadata": {},
   "outputs": [],
   "source": [
    "# create new column with converted currency using exchange rate on 2/5/2025\n",
    "\n",
    "df['salary_in_cad'] = df['salary_in_usd'] * 1.43"
   ]
  },
  {
   "cell_type": "code",
   "execution_count": 7,
   "id": "6672428b-95f2-45a6-b05b-9c3a327b738d",
   "metadata": {},
   "outputs": [],
   "source": [
    "# drop salary_in_usd column as it is no longer necessary\n",
    "\n",
    "df.drop(['salary_in_usd'], axis = 1, inplace = True) "
   ]
  },
  {
   "cell_type": "markdown",
   "id": "e7dc82c1",
   "metadata": {},
   "source": [
    "#### The job title column can be grouped into major categories of job titles based on similarities."
   ]
  },
  {
   "cell_type": "code",
   "execution_count": 8,
   "id": "33915ae2",
   "metadata": {},
   "outputs": [
    {
     "data": {
      "text/plain": [
       "Data Engineer                          1040\n",
       "Data Scientist                          840\n",
       "Data Analyst                            612\n",
       "Machine Learning Engineer               289\n",
       "Analytics Engineer                      103\n",
       "                                       ... \n",
       "Principal Machine Learning Engineer       1\n",
       "Azure Data Engineer                       1\n",
       "Manager Data Management                   1\n",
       "Marketing Data Engineer                   1\n",
       "Finance Data Analyst                      1\n",
       "Name: job_title, Length: 93, dtype: int64"
      ]
     },
     "execution_count": 8,
     "metadata": {},
     "output_type": "execute_result"
    }
   ],
   "source": [
    "# view count distribution of job title column\n",
    "\n",
    "df['job_title'].value_counts()"
   ]
  },
  {
   "cell_type": "code",
   "execution_count": 9,
   "id": "87dce7d4",
   "metadata": {},
   "outputs": [],
   "source": [
    "# group job titles using regex\n",
    "\n",
    "df['job_title'] = df['job_title'].replace(r'.*(Scientist|Science).*', 'Data Scientist', regex=True)\n",
    "\n",
    "df['job_title'] = df['job_title'].replace(r'.*(Analyst|Analytics).*', 'Data Analyst', regex=True)\n",
    "\n",
    "df['job_title'] = df['job_title'].replace(r'.*(Data.* Engineer|ETL).*', 'Data Engineer', regex=True)\n",
    "\n",
    "df['job_title'] = df['job_title'].replace(r'.*(ML.* Engineer|Machine Learning).*', 'Machine Learning Engineer', regex=True)\n",
    "\n",
    "df['job_title'] = df['job_title'].replace(r'.*(Data Architect).*', 'Data Architect', regex=True)"
   ]
  },
  {
   "cell_type": "code",
   "execution_count": 10,
   "id": "55e98285",
   "metadata": {},
   "outputs": [
    {
     "data": {
      "text/plain": [
       "Data Scientist                       1181\n",
       "Data Engineer                        1101\n",
       "Data Analyst                          821\n",
       "Machine Learning Engineer             375\n",
       "Data Architect                        105\n",
       "Research Engineer                      37\n",
       "Data Manager                           29\n",
       "Computer Vision Engineer               18\n",
       "Data Specialist                        14\n",
       "BI Developer                           13\n",
       "AI Developer                           11\n",
       "Head of Data                           10\n",
       "NLP Engineer                            7\n",
       "Deep Learning Engineer                  6\n",
       "Computer Vision Software Engineer       5\n",
       "3D Computer Vision Researcher           4\n",
       "Business Intelligence Engineer          4\n",
       "Data Strategist                         2\n",
       "Data Modeler                            2\n",
       "Autonomous Vehicle Technician           2\n",
       "AI Programmer                           2\n",
       "Data Lead                               2\n",
       "Data Management Specialist              1\n",
       "Deep Learning Researcher                1\n",
       "Manager Data Management                 1\n",
       "Power BI Developer                      1\n",
       "Name: job_title, dtype: int64"
      ]
     },
     "execution_count": 10,
     "metadata": {},
     "output_type": "execute_result"
    }
   ],
   "source": [
    "# view updated count distribution of job title column\n",
    "\n",
    "df['job_title'].value_counts()"
   ]
  },
  {
   "cell_type": "markdown",
   "id": "586513cf",
   "metadata": {},
   "source": [
    "Looking at the updated count distribution above, autonomous vehicle technician is not a data science related job title. As a result, those rows will be dropped."
   ]
  },
  {
   "cell_type": "code",
   "execution_count": 11,
   "id": "0f2c5639",
   "metadata": {},
   "outputs": [],
   "source": [
    "# drop autonomous vehicle techincian job title\n",
    "\n",
    "df.drop(df[df['job_title'] == 'Autonomous Vehicle Technician'].index, inplace = True)"
   ]
  },
  {
   "cell_type": "markdown",
   "id": "ec1bfffe",
   "metadata": {},
   "source": [
    "Following the initial grouping of job titles, the remaining job titles that we deem do not fall into any of the grouped categories will be grouped as Others"
   ]
  },
  {
   "cell_type": "code",
   "execution_count": 12,
   "id": "ff4fcaef",
   "metadata": {},
   "outputs": [],
   "source": [
    "# create list of major job titles\n",
    "\n",
    "major_jobs = df['job_title'].value_counts()[:5].index"
   ]
  },
  {
   "cell_type": "code",
   "execution_count": 13,
   "id": "c1a4e55a",
   "metadata": {},
   "outputs": [],
   "source": [
    "# replace job titles not among the major job titles with 'Others'\n",
    "\n",
    "df['job_title'] = df['job_title'].apply(lambda x: x if x in major_jobs else 'Others')"
   ]
  },
  {
   "cell_type": "code",
   "execution_count": 14,
   "id": "0c8d5fd8",
   "metadata": {},
   "outputs": [
    {
     "data": {
      "text/plain": [
       "Data Scientist               1181\n",
       "Data Engineer                1101\n",
       "Data Analyst                  821\n",
       "Machine Learning Engineer     375\n",
       "Others                        170\n",
       "Data Architect                105\n",
       "Name: job_title, dtype: int64"
      ]
     },
     "execution_count": 14,
     "metadata": {},
     "output_type": "execute_result"
    }
   ],
   "source": [
    "# view updated count distribution of job title column\n",
    "\n",
    "df['job_title'].value_counts()"
   ]
  },
  {
   "cell_type": "code",
   "execution_count": 15,
   "id": "c3e6bc64-1c01-453e-a8d3-5756776ca5e4",
   "metadata": {},
   "outputs": [
    {
     "data": {
      "text/html": [
       "<div>\n",
       "<style scoped>\n",
       "    .dataframe tbody tr th:only-of-type {\n",
       "        vertical-align: middle;\n",
       "    }\n",
       "\n",
       "    .dataframe tbody tr th {\n",
       "        vertical-align: top;\n",
       "    }\n",
       "\n",
       "    .dataframe thead th {\n",
       "        text-align: right;\n",
       "    }\n",
       "</style>\n",
       "<table border=\"1\" class=\"dataframe\">\n",
       "  <thead>\n",
       "    <tr style=\"text-align: right;\">\n",
       "      <th></th>\n",
       "      <th>work_year</th>\n",
       "      <th>experience_level</th>\n",
       "      <th>employment_type</th>\n",
       "      <th>job_title</th>\n",
       "      <th>employee_residence</th>\n",
       "      <th>remote_ratio</th>\n",
       "      <th>company_location</th>\n",
       "      <th>company_size</th>\n",
       "      <th>salary_in_cad</th>\n",
       "    </tr>\n",
       "  </thead>\n",
       "  <tbody>\n",
       "    <tr>\n",
       "      <th>0</th>\n",
       "      <td>2023</td>\n",
       "      <td>SE</td>\n",
       "      <td>FT</td>\n",
       "      <td>Data Scientist</td>\n",
       "      <td>ES</td>\n",
       "      <td>100</td>\n",
       "      <td>ES</td>\n",
       "      <td>L</td>\n",
       "      <td>122761.21</td>\n",
       "    </tr>\n",
       "    <tr>\n",
       "      <th>1</th>\n",
       "      <td>2023</td>\n",
       "      <td>MI</td>\n",
       "      <td>CT</td>\n",
       "      <td>Machine Learning Engineer</td>\n",
       "      <td>US</td>\n",
       "      <td>100</td>\n",
       "      <td>US</td>\n",
       "      <td>S</td>\n",
       "      <td>42900.00</td>\n",
       "    </tr>\n",
       "    <tr>\n",
       "      <th>2</th>\n",
       "      <td>2023</td>\n",
       "      <td>MI</td>\n",
       "      <td>CT</td>\n",
       "      <td>Machine Learning Engineer</td>\n",
       "      <td>US</td>\n",
       "      <td>100</td>\n",
       "      <td>US</td>\n",
       "      <td>S</td>\n",
       "      <td>36465.00</td>\n",
       "    </tr>\n",
       "    <tr>\n",
       "      <th>3</th>\n",
       "      <td>2023</td>\n",
       "      <td>SE</td>\n",
       "      <td>FT</td>\n",
       "      <td>Data Scientist</td>\n",
       "      <td>CA</td>\n",
       "      <td>100</td>\n",
       "      <td>CA</td>\n",
       "      <td>M</td>\n",
       "      <td>250250.00</td>\n",
       "    </tr>\n",
       "    <tr>\n",
       "      <th>4</th>\n",
       "      <td>2023</td>\n",
       "      <td>SE</td>\n",
       "      <td>FT</td>\n",
       "      <td>Data Scientist</td>\n",
       "      <td>CA</td>\n",
       "      <td>100</td>\n",
       "      <td>CA</td>\n",
       "      <td>M</td>\n",
       "      <td>171600.00</td>\n",
       "    </tr>\n",
       "    <tr>\n",
       "      <th>...</th>\n",
       "      <td>...</td>\n",
       "      <td>...</td>\n",
       "      <td>...</td>\n",
       "      <td>...</td>\n",
       "      <td>...</td>\n",
       "      <td>...</td>\n",
       "      <td>...</td>\n",
       "      <td>...</td>\n",
       "      <td>...</td>\n",
       "    </tr>\n",
       "    <tr>\n",
       "      <th>3750</th>\n",
       "      <td>2020</td>\n",
       "      <td>SE</td>\n",
       "      <td>FT</td>\n",
       "      <td>Data Scientist</td>\n",
       "      <td>US</td>\n",
       "      <td>100</td>\n",
       "      <td>US</td>\n",
       "      <td>L</td>\n",
       "      <td>589160.00</td>\n",
       "    </tr>\n",
       "    <tr>\n",
       "      <th>3751</th>\n",
       "      <td>2021</td>\n",
       "      <td>MI</td>\n",
       "      <td>FT</td>\n",
       "      <td>Data Scientist</td>\n",
       "      <td>US</td>\n",
       "      <td>100</td>\n",
       "      <td>US</td>\n",
       "      <td>L</td>\n",
       "      <td>215930.00</td>\n",
       "    </tr>\n",
       "    <tr>\n",
       "      <th>3752</th>\n",
       "      <td>2020</td>\n",
       "      <td>EN</td>\n",
       "      <td>FT</td>\n",
       "      <td>Data Scientist</td>\n",
       "      <td>US</td>\n",
       "      <td>100</td>\n",
       "      <td>US</td>\n",
       "      <td>S</td>\n",
       "      <td>150150.00</td>\n",
       "    </tr>\n",
       "    <tr>\n",
       "      <th>3753</th>\n",
       "      <td>2020</td>\n",
       "      <td>EN</td>\n",
       "      <td>CT</td>\n",
       "      <td>Data Analyst</td>\n",
       "      <td>US</td>\n",
       "      <td>100</td>\n",
       "      <td>US</td>\n",
       "      <td>L</td>\n",
       "      <td>143000.00</td>\n",
       "    </tr>\n",
       "    <tr>\n",
       "      <th>3754</th>\n",
       "      <td>2021</td>\n",
       "      <td>SE</td>\n",
       "      <td>FT</td>\n",
       "      <td>Data Scientist</td>\n",
       "      <td>IN</td>\n",
       "      <td>50</td>\n",
       "      <td>IN</td>\n",
       "      <td>L</td>\n",
       "      <td>135370.95</td>\n",
       "    </tr>\n",
       "  </tbody>\n",
       "</table>\n",
       "<p>3753 rows × 9 columns</p>\n",
       "</div>"
      ],
      "text/plain": [
       "      work_year experience_level employment_type                  job_title  \\\n",
       "0          2023               SE              FT             Data Scientist   \n",
       "1          2023               MI              CT  Machine Learning Engineer   \n",
       "2          2023               MI              CT  Machine Learning Engineer   \n",
       "3          2023               SE              FT             Data Scientist   \n",
       "4          2023               SE              FT             Data Scientist   \n",
       "...         ...              ...             ...                        ...   \n",
       "3750       2020               SE              FT             Data Scientist   \n",
       "3751       2021               MI              FT             Data Scientist   \n",
       "3752       2020               EN              FT             Data Scientist   \n",
       "3753       2020               EN              CT               Data Analyst   \n",
       "3754       2021               SE              FT             Data Scientist   \n",
       "\n",
       "     employee_residence  remote_ratio company_location company_size  \\\n",
       "0                    ES           100               ES            L   \n",
       "1                    US           100               US            S   \n",
       "2                    US           100               US            S   \n",
       "3                    CA           100               CA            M   \n",
       "4                    CA           100               CA            M   \n",
       "...                 ...           ...              ...          ...   \n",
       "3750                 US           100               US            L   \n",
       "3751                 US           100               US            L   \n",
       "3752                 US           100               US            S   \n",
       "3753                 US           100               US            L   \n",
       "3754                 IN            50               IN            L   \n",
       "\n",
       "      salary_in_cad  \n",
       "0         122761.21  \n",
       "1          42900.00  \n",
       "2          36465.00  \n",
       "3         250250.00  \n",
       "4         171600.00  \n",
       "...             ...  \n",
       "3750      589160.00  \n",
       "3751      215930.00  \n",
       "3752      150150.00  \n",
       "3753      143000.00  \n",
       "3754      135370.95  \n",
       "\n",
       "[3753 rows x 9 columns]"
      ]
     },
     "metadata": {},
     "output_type": "display_data"
    }
   ],
   "source": [
    "# display updated data frame\n",
    "\n",
    "display(df)"
   ]
  },
  {
   "cell_type": "markdown",
   "id": "b6aa75fd",
   "metadata": {},
   "source": [
    "Some columns have their values as abbreviations / numerical categories. To avoid confusion, these columns will be replaced with their full meanings."
   ]
  },
  {
   "cell_type": "code",
   "execution_count": 16,
   "id": "0448c565-20e0-4102-8c03-521ce8a2553c",
   "metadata": {},
   "outputs": [],
   "source": [
    "# create remote_status column that interprets the remote ratio as In-Person, Hybrid or Fully Remote\n",
    "\n",
    "df['remote_status'] = df['remote_ratio'].replace({0:'In-Person', 50:'Hybrid', 100:'Fully Remote'})"
   ]
  },
  {
   "cell_type": "code",
   "execution_count": 17,
   "id": "5999df9b",
   "metadata": {},
   "outputs": [],
   "source": [
    "# drop remote ratio column\n",
    "\n",
    "df.drop('remote_ratio', axis = 1, inplace = True)"
   ]
  },
  {
   "cell_type": "code",
   "execution_count": 18,
   "id": "82e6e594",
   "metadata": {},
   "outputs": [],
   "source": [
    "# rename abbreviations of experience_level, employment_type and company_size with their full meanings\n",
    "\n",
    "df['experience_level'] = df['experience_level'].replace({'EN':'Entry', 'MI':'Mid', \n",
    "                                                         'SE':'Senior', 'EX':'Executive'})\n",
    "\n",
    "df['employment_type'] = df['employment_type'].replace({'PT':'Part Time', 'FT':'Full Time', \n",
    "                                                  'CT':'Contract', 'FL':'Freelance'})\n",
    "\n",
    "df['company_size'] = df['company_size'].replace({'S':'Small', 'M':'Medium', 'L':'Large'})"
   ]
  },
  {
   "cell_type": "code",
   "execution_count": 19,
   "id": "c94b005f-880b-4200-b38e-0d2b4324cb30",
   "metadata": {},
   "outputs": [
    {
     "data": {
      "text/html": [
       "<div>\n",
       "<style scoped>\n",
       "    .dataframe tbody tr th:only-of-type {\n",
       "        vertical-align: middle;\n",
       "    }\n",
       "\n",
       "    .dataframe tbody tr th {\n",
       "        vertical-align: top;\n",
       "    }\n",
       "\n",
       "    .dataframe thead th {\n",
       "        text-align: right;\n",
       "    }\n",
       "</style>\n",
       "<table border=\"1\" class=\"dataframe\">\n",
       "  <thead>\n",
       "    <tr style=\"text-align: right;\">\n",
       "      <th></th>\n",
       "      <th>work_year</th>\n",
       "      <th>experience_level</th>\n",
       "      <th>employment_type</th>\n",
       "      <th>job_title</th>\n",
       "      <th>employee_residence</th>\n",
       "      <th>company_location</th>\n",
       "      <th>company_size</th>\n",
       "      <th>salary_in_cad</th>\n",
       "      <th>remote_status</th>\n",
       "    </tr>\n",
       "  </thead>\n",
       "  <tbody>\n",
       "    <tr>\n",
       "      <th>0</th>\n",
       "      <td>2023</td>\n",
       "      <td>Senior</td>\n",
       "      <td>Full Time</td>\n",
       "      <td>Data Scientist</td>\n",
       "      <td>ES</td>\n",
       "      <td>ES</td>\n",
       "      <td>Large</td>\n",
       "      <td>122761.21</td>\n",
       "      <td>Fully Remote</td>\n",
       "    </tr>\n",
       "    <tr>\n",
       "      <th>1</th>\n",
       "      <td>2023</td>\n",
       "      <td>Mid</td>\n",
       "      <td>Contract</td>\n",
       "      <td>Machine Learning Engineer</td>\n",
       "      <td>US</td>\n",
       "      <td>US</td>\n",
       "      <td>Small</td>\n",
       "      <td>42900.00</td>\n",
       "      <td>Fully Remote</td>\n",
       "    </tr>\n",
       "    <tr>\n",
       "      <th>2</th>\n",
       "      <td>2023</td>\n",
       "      <td>Mid</td>\n",
       "      <td>Contract</td>\n",
       "      <td>Machine Learning Engineer</td>\n",
       "      <td>US</td>\n",
       "      <td>US</td>\n",
       "      <td>Small</td>\n",
       "      <td>36465.00</td>\n",
       "      <td>Fully Remote</td>\n",
       "    </tr>\n",
       "    <tr>\n",
       "      <th>3</th>\n",
       "      <td>2023</td>\n",
       "      <td>Senior</td>\n",
       "      <td>Full Time</td>\n",
       "      <td>Data Scientist</td>\n",
       "      <td>CA</td>\n",
       "      <td>CA</td>\n",
       "      <td>Medium</td>\n",
       "      <td>250250.00</td>\n",
       "      <td>Fully Remote</td>\n",
       "    </tr>\n",
       "    <tr>\n",
       "      <th>4</th>\n",
       "      <td>2023</td>\n",
       "      <td>Senior</td>\n",
       "      <td>Full Time</td>\n",
       "      <td>Data Scientist</td>\n",
       "      <td>CA</td>\n",
       "      <td>CA</td>\n",
       "      <td>Medium</td>\n",
       "      <td>171600.00</td>\n",
       "      <td>Fully Remote</td>\n",
       "    </tr>\n",
       "    <tr>\n",
       "      <th>...</th>\n",
       "      <td>...</td>\n",
       "      <td>...</td>\n",
       "      <td>...</td>\n",
       "      <td>...</td>\n",
       "      <td>...</td>\n",
       "      <td>...</td>\n",
       "      <td>...</td>\n",
       "      <td>...</td>\n",
       "      <td>...</td>\n",
       "    </tr>\n",
       "    <tr>\n",
       "      <th>3750</th>\n",
       "      <td>2020</td>\n",
       "      <td>Senior</td>\n",
       "      <td>Full Time</td>\n",
       "      <td>Data Scientist</td>\n",
       "      <td>US</td>\n",
       "      <td>US</td>\n",
       "      <td>Large</td>\n",
       "      <td>589160.00</td>\n",
       "      <td>Fully Remote</td>\n",
       "    </tr>\n",
       "    <tr>\n",
       "      <th>3751</th>\n",
       "      <td>2021</td>\n",
       "      <td>Mid</td>\n",
       "      <td>Full Time</td>\n",
       "      <td>Data Scientist</td>\n",
       "      <td>US</td>\n",
       "      <td>US</td>\n",
       "      <td>Large</td>\n",
       "      <td>215930.00</td>\n",
       "      <td>Fully Remote</td>\n",
       "    </tr>\n",
       "    <tr>\n",
       "      <th>3752</th>\n",
       "      <td>2020</td>\n",
       "      <td>Entry</td>\n",
       "      <td>Full Time</td>\n",
       "      <td>Data Scientist</td>\n",
       "      <td>US</td>\n",
       "      <td>US</td>\n",
       "      <td>Small</td>\n",
       "      <td>150150.00</td>\n",
       "      <td>Fully Remote</td>\n",
       "    </tr>\n",
       "    <tr>\n",
       "      <th>3753</th>\n",
       "      <td>2020</td>\n",
       "      <td>Entry</td>\n",
       "      <td>Contract</td>\n",
       "      <td>Data Analyst</td>\n",
       "      <td>US</td>\n",
       "      <td>US</td>\n",
       "      <td>Large</td>\n",
       "      <td>143000.00</td>\n",
       "      <td>Fully Remote</td>\n",
       "    </tr>\n",
       "    <tr>\n",
       "      <th>3754</th>\n",
       "      <td>2021</td>\n",
       "      <td>Senior</td>\n",
       "      <td>Full Time</td>\n",
       "      <td>Data Scientist</td>\n",
       "      <td>IN</td>\n",
       "      <td>IN</td>\n",
       "      <td>Large</td>\n",
       "      <td>135370.95</td>\n",
       "      <td>Hybrid</td>\n",
       "    </tr>\n",
       "  </tbody>\n",
       "</table>\n",
       "<p>3753 rows × 9 columns</p>\n",
       "</div>"
      ],
      "text/plain": [
       "      work_year experience_level employment_type                  job_title  \\\n",
       "0          2023           Senior       Full Time             Data Scientist   \n",
       "1          2023              Mid        Contract  Machine Learning Engineer   \n",
       "2          2023              Mid        Contract  Machine Learning Engineer   \n",
       "3          2023           Senior       Full Time             Data Scientist   \n",
       "4          2023           Senior       Full Time             Data Scientist   \n",
       "...         ...              ...             ...                        ...   \n",
       "3750       2020           Senior       Full Time             Data Scientist   \n",
       "3751       2021              Mid       Full Time             Data Scientist   \n",
       "3752       2020            Entry       Full Time             Data Scientist   \n",
       "3753       2020            Entry        Contract               Data Analyst   \n",
       "3754       2021           Senior       Full Time             Data Scientist   \n",
       "\n",
       "     employee_residence company_location company_size  salary_in_cad  \\\n",
       "0                    ES               ES        Large      122761.21   \n",
       "1                    US               US        Small       42900.00   \n",
       "2                    US               US        Small       36465.00   \n",
       "3                    CA               CA       Medium      250250.00   \n",
       "4                    CA               CA       Medium      171600.00   \n",
       "...                 ...              ...          ...            ...   \n",
       "3750                 US               US        Large      589160.00   \n",
       "3751                 US               US        Large      215930.00   \n",
       "3752                 US               US        Small      150150.00   \n",
       "3753                 US               US        Large      143000.00   \n",
       "3754                 IN               IN        Large      135370.95   \n",
       "\n",
       "     remote_status  \n",
       "0     Fully Remote  \n",
       "1     Fully Remote  \n",
       "2     Fully Remote  \n",
       "3     Fully Remote  \n",
       "4     Fully Remote  \n",
       "...            ...  \n",
       "3750  Fully Remote  \n",
       "3751  Fully Remote  \n",
       "3752  Fully Remote  \n",
       "3753  Fully Remote  \n",
       "3754        Hybrid  \n",
       "\n",
       "[3753 rows x 9 columns]"
      ]
     },
     "metadata": {},
     "output_type": "display_data"
    }
   ],
   "source": [
    "# display updated data frame\n",
    "\n",
    "display(df)"
   ]
  },
  {
   "cell_type": "markdown",
   "id": "35c6c337",
   "metadata": {},
   "source": [
    "Our primary focus of the analysis is on jobs in North America. Therefore, the data will be filtered to include only jobs with companies located in Canada or the United States of America."
   ]
  },
  {
   "cell_type": "code",
   "execution_count": 20,
   "id": "c9354a94-4d81-4562-a9c9-df4883c34843",
   "metadata": {},
   "outputs": [],
   "source": [
    "# filter data to include only Canada and US jobs\n",
    "\n",
    "df = df[(df['company_location'] == 'US') | (df['company_location'] == 'CA')] "
   ]
  },
  {
   "cell_type": "markdown",
   "id": "fd2ec8dd",
   "metadata": {},
   "source": [
    "<a id='eda'></a>\n",
    "## Exploratory Data Analysis"
   ]
  },
  {
   "cell_type": "code",
   "execution_count": 21,
   "id": "ec420d7e",
   "metadata": {},
   "outputs": [
    {
     "data": {
      "text/html": [
       "<div>\n",
       "<style scoped>\n",
       "    .dataframe tbody tr th:only-of-type {\n",
       "        vertical-align: middle;\n",
       "    }\n",
       "\n",
       "    .dataframe tbody tr th {\n",
       "        vertical-align: top;\n",
       "    }\n",
       "\n",
       "    .dataframe thead th {\n",
       "        text-align: right;\n",
       "    }\n",
       "</style>\n",
       "<table border=\"1\" class=\"dataframe\">\n",
       "  <thead>\n",
       "    <tr style=\"text-align: right;\">\n",
       "      <th></th>\n",
       "      <th>work_year</th>\n",
       "      <th>salary_in_cad</th>\n",
       "    </tr>\n",
       "  </thead>\n",
       "  <tbody>\n",
       "    <tr>\n",
       "      <th>count</th>\n",
       "      <td>3127.000000</td>\n",
       "      <td>3127.000000</td>\n",
       "    </tr>\n",
       "    <tr>\n",
       "      <th>mean</th>\n",
       "      <td>2022.456988</td>\n",
       "      <td>216313.565603</td>\n",
       "    </tr>\n",
       "    <tr>\n",
       "      <th>std</th>\n",
       "      <td>0.618536</td>\n",
       "      <td>80442.330414</td>\n",
       "    </tr>\n",
       "    <tr>\n",
       "      <th>min</th>\n",
       "      <td>2020.000000</td>\n",
       "      <td>8120.970000</td>\n",
       "    </tr>\n",
       "    <tr>\n",
       "      <th>25%</th>\n",
       "      <td>2022.000000</td>\n",
       "      <td>161447.000000</td>\n",
       "    </tr>\n",
       "    <tr>\n",
       "      <th>50%</th>\n",
       "      <td>2023.000000</td>\n",
       "      <td>207350.000000</td>\n",
       "    </tr>\n",
       "    <tr>\n",
       "      <th>75%</th>\n",
       "      <td>2023.000000</td>\n",
       "      <td>264550.000000</td>\n",
       "    </tr>\n",
       "    <tr>\n",
       "      <th>max</th>\n",
       "      <td>2023.000000</td>\n",
       "      <td>643500.000000</td>\n",
       "    </tr>\n",
       "  </tbody>\n",
       "</table>\n",
       "</div>"
      ],
      "text/plain": [
       "         work_year  salary_in_cad\n",
       "count  3127.000000    3127.000000\n",
       "mean   2022.456988  216313.565603\n",
       "std       0.618536   80442.330414\n",
       "min    2020.000000    8120.970000\n",
       "25%    2022.000000  161447.000000\n",
       "50%    2023.000000  207350.000000\n",
       "75%    2023.000000  264550.000000\n",
       "max    2023.000000  643500.000000"
      ]
     },
     "execution_count": 21,
     "metadata": {},
     "output_type": "execute_result"
    }
   ],
   "source": [
    "# generate summary statistics for numerical features\n",
    "\n",
    "df.describe()"
   ]
  },
  {
   "cell_type": "markdown",
   "id": "e8f072eb",
   "metadata": {},
   "source": [
    "The describe function only applies to the salaries_in_cad column. The following observations can be gotten from the summary:\n",
    "\n",
    "- Average salary in cad is 216,313.57 while the standard deviation is 80,442.33. The high standard deviation shows that the salaries have a high variation. \n",
    "\n",
    "- The minimum salary is 8,120.97, which could indicate a part time/contract/freelance job, while the maximum salary is 643,500.00, which could indicate the salary paid by a large company to employees with the highest experience level.\n",
    "\n",
    "- 25% of the data earn less than 161,447.00, while 25% earn more than 264,550.00. The median salary is 207,350.00.\n",
    "\n",
    "- The mean being greater than the median indicates that the salary distribution is right skewed. This is reasonable, as fewer employees are expected to earn the highest salaries."
   ]
  },
  {
   "cell_type": "markdown",
   "id": "f1b6745b",
   "metadata": {},
   "source": [
    "### Outliers"
   ]
  },
  {
   "cell_type": "markdown",
   "id": "9003688c",
   "metadata": {},
   "source": [
    "We will use the interquartile range (IQR) method to identify any outliers in the salary_in_cad column and handle them accordingly."
   ]
  },
  {
   "cell_type": "code",
   "execution_count": 22,
   "id": "87cc1cce-7e2e-4d4e-8e7e-566236371969",
   "metadata": {},
   "outputs": [
    {
     "name": "stdout",
     "output_type": "stream",
     "text": [
      "Q1: 161447.0\n",
      "Q3: 264550.0\n",
      "IQR: 103103.0\n"
     ]
    }
   ],
   "source": [
    "# calculate Q1 and Q3\n",
    "Q1 = df['salary_in_cad'].quantile(0.25)\n",
    "Q3 = df['salary_in_cad'].quantile(0.75)\n",
    "IQR = Q3 - Q1\n",
    "\n",
    "print(f\"Q1: {Q1}\")\n",
    "print(f\"Q3: {Q3}\")\n",
    "print(f\"IQR: {IQR}\")"
   ]
  },
  {
   "cell_type": "code",
   "execution_count": 23,
   "id": "ba795451",
   "metadata": {},
   "outputs": [
    {
     "name": "stdout",
     "output_type": "stream",
     "text": [
      "Lower Bound: 6792.5\n",
      "Upper Bound: 419204.5\n"
     ]
    }
   ],
   "source": [
    "# calculate lower and upper bounds\n",
    "lower_bound = Q1 - 1.5 * IQR\n",
    "upper_bound = Q3 + 1.5 * IQR\n",
    "\n",
    "print(f\"Lower Bound: {lower_bound}\")\n",
    "print(f\"Upper Bound: {upper_bound}\")"
   ]
  },
  {
   "cell_type": "code",
   "execution_count": 24,
   "id": "2a89358a",
   "metadata": {},
   "outputs": [
    {
     "name": "stdout",
     "output_type": "stream",
     "text": [
      "Number of outliers in Fare: 60\n"
     ]
    }
   ],
   "source": [
    "# identify outliers\n",
    "outliers = df[(df['salary_in_cad'] < lower_bound) | (df['salary_in_cad'] > upper_bound)]\n",
    "print(f\"Number of outliers in Fare: {outliers.shape[0]}\")"
   ]
  },
  {
   "cell_type": "code",
   "execution_count": 25,
   "id": "71cb8e4c",
   "metadata": {},
   "outputs": [
    {
     "name": "stdout",
     "output_type": "stream",
     "text": [
      "Minimum outlier: 425139.0\n",
      "Maximum outlier: 643500.0\n"
     ]
    }
   ],
   "source": [
    "# display the minimum and maximum outliers\n",
    "\n",
    "print(\"Minimum outlier: {}\".format(outliers['salary_in_cad'].min()))\n",
    "print(\"Maximum outlier: {}\".format(outliers['salary_in_cad'].max()))"
   ]
  },
  {
   "cell_type": "markdown",
   "id": "55262793-81da-41f6-833c-2bf58288aafd",
   "metadata": {},
   "source": [
    "Based on the minimum and maximum outliers above, these values likely represent expected salaries that large companies could pay employees at the highest experience levels. As a result, we would not be removing these values from the dataset, as they could also provide meaningful and important insights."
   ]
  },
  {
   "cell_type": "markdown",
   "id": "847a6a7f",
   "metadata": {},
   "source": [
    "### Visualizations"
   ]
  },
  {
   "cell_type": "markdown",
   "id": "b8cae6af",
   "metadata": {},
   "source": [
    "### 1. What has been the growth rate in Data Science jobs in the past four years?"
   ]
  },
  {
   "cell_type": "markdown",
   "id": "48cbb936",
   "metadata": {},
   "source": [
    "A line plot would be to plotted to view the trend of data science job availability over time from 2020 to 2024."
   ]
  },
  {
   "cell_type": "code",
   "execution_count": 26,
   "id": "04a1eba0-2a9e-4c9c-a29d-4c5de576d4c8",
   "metadata": {},
   "outputs": [
    {
     "data": {
      "image/png": "[encoded data removed]",
      "text/plain": [
       "<Figure size 864x576 with 1 Axes>"
      ]
     },
     "metadata": {
      "needs_background": "light"
     },
     "output_type": "display_data"
    }
   ],
   "source": [
    "# create a line plot to show the growth of the data science field over the past four years\n",
    "\n",
    "growth_rate = df['work_year'].value_counts()\n",
    "plt.figure(figsize=(12, 8))\n",
    "plt.plot(growth_rate.index,growth_rate.values)\n",
    "plt.xticks(growth_rate.index)\n",
    "plt.xlabel('Year')\n",
    "plt.ylabel('Count')\n",
    "plt.title('Data Science Job Growth')\n",
    "plt.show()"
   ]
  },
  {
   "cell_type": "markdown",
   "id": "8af88566-66a6-4ecd-8f3d-7e86915889ab",
   "metadata": {},
   "source": [
    "This plot shows the data science trends from 2020-2023. The plot shows the years along the x-axis and the job value counts along the y-axis. There is a significant jump in data science roles from 2021-2022 signifying a boom in the industry during those years. "
   ]
  },
  {
   "cell_type": "markdown",
   "id": "ca807635",
   "metadata": {},
   "source": [
    "### 2. What is the overall distribution of salaries in the dataset, as well as the salary distribution across categorical variables, such as experience level, company size, remote status? "
   ]
  },
  {
   "cell_type": "markdown",
   "id": "62ea1c65",
   "metadata": {},
   "source": [
    "We will start by first displaying the overall salary distribution."
   ]
  },
  {
   "cell_type": "code",
   "execution_count": 27,
   "id": "10090112",
   "metadata": {},
   "outputs": [
    {
     "data": {
      "image/png": "[encoded data removed]",
      "text/plain": [
       "<Figure size 864x576 with 1 Axes>"
      ]
     },
     "metadata": {
      "needs_background": "light"
     },
     "output_type": "display_data"
    }
   ],
   "source": [
    "# plot a histogram of salary distribution \n",
    "\n",
    "plt.figure(figsize=(12, 8))\n",
    "plt.hist(df['salary_in_cad'], bins = 50)\n",
    "plt.title(\"Histogram of Salary Distribution \")\n",
    "plt.xlabel(\"Salary\")\n",
    "plt.show()"
   ]
  },
  {
   "cell_type": "markdown",
   "id": "31d7e2b1",
   "metadata": {},
   "source": [
    "Next, we will segment the salaries based on the categorical variables"
   ]
  },
  {
   "cell_type": "markdown",
   "id": "c6f32098",
   "metadata": {},
   "source": [
    "We will use jupyter widgets in conjunction with plotly to generate histograms of salary distributions across the years"
   ]
  },
  {
   "cell_type": "code",
   "execution_count": 28,
   "id": "1c1f43d5",
   "metadata": {},
   "outputs": [
    {
     "data": {
      "application/vnd.jupyter.widget-view+json": {
       "model_id": "7c2281a8b0dc4133b49ba8c8c7a37cf7",
       "version_major": 2,
       "version_minor": 0
      },
      "text/plain": [
       "interactive(children=(Dropdown(description='year', index=3, options=(2020, 2021, 2022, 2023), value=2023), Out…"
      ]
     },
     "metadata": {},
     "output_type": "display_data"
    },
    {
     "data": {
      "application/vnd.jupyter.widget-view+json": {
       "model_id": "cc140c000fdb4fca9c110063bdaba69a",
       "version_major": 2,
       "version_minor": 0
      },
      "text/plain": [
       "FigureWidget({\n",
       "    'data': [{'nbinsx': 100,\n",
       "              'type': 'histogram',\n",
       "              'uid': '937c1cdd-4469-41dd-80b7-4a432c7ce2de',\n",
       "              'x': array([ 42900.,  36465., 250250., ..., 128700., 228800., 193050.])}],\n",
       "    'layout': {'template': '...',\n",
       "               'title': {'text': 'Salary Distribution in 2023'},\n",
       "               'xaxis': {'title': {'text': 'Salary'}},\n",
       "               'yaxis': {'title': {'text': 'Frequency'}}}\n",
       "})"
      ]
     },
     "execution_count": 28,
     "metadata": {},
     "output_type": "execute_result"
    }
   ],
   "source": [
    "# generate histograms of salary distributions across the years\n",
    "\n",
    "bar = go.Histogram()\n",
    "fig_bar = go.FigureWidget(data=bar)\n",
    "\n",
    "@interact(year=[2020, 2021, 2022, 2023])\n",
    "def update_bar(year=2023):\n",
    "    data = df[df['work_year'] == year]['salary_in_cad']\n",
    "    fig_bar.update_traces(\n",
    "                          x=data, nbinsx = 100)\n",
    "    fig_bar.update_layout(title_text=\"Salary Distribution in {0}\".format(year), \n",
    "                          xaxis_title = 'Salary', yaxis_title = 'Frequency')\n",
    "\n",
    "fig_bar"
   ]
  },
  {
   "cell_type": "code",
   "execution_count": 29,
   "id": "73b58dce",
   "metadata": {},
   "outputs": [],
   "source": [
    "# group salary by work year\n",
    "\n",
    "average_salary = df.groupby('work_year')['salary_in_cad'].mean()"
   ]
  },
  {
   "cell_type": "code",
   "execution_count": 30,
   "id": "11bb99c9",
   "metadata": {},
   "outputs": [
    {
     "data": {
      "image/png": "[encoded data removed]",
      "text/plain": [
       "<Figure size 864x576 with 1 Axes>"
      ]
     },
     "metadata": {
      "needs_background": "light"
     },
     "output_type": "display_data"
    }
   ],
   "source": [
    "# plot bar chart\n",
    "\n",
    "plt.figure(figsize=(12, 8))\n",
    "bar = plt.bar(average_salary.index, average_salary.values, color='skyblue')\n",
    "plt.title(\"Average Salary per Year\")\n",
    "plt.xlabel(\"Year\")\n",
    "plt.ylabel(\"Average Salary\")\n",
    "plt.xticks(average_salary.index)\n",
    "plt.show()"
   ]
  },
  {
   "cell_type": "code",
   "execution_count": 31,
   "id": "34f374de",
   "metadata": {},
   "outputs": [
    {
     "data": {
      "image/png": "[encoded data removed]",
      "text/plain": [
       "<Figure size 1080x1080 with 3 Axes>"
      ]
     },
     "metadata": {
      "needs_background": "light"
     },
     "output_type": "display_data"
    }
   ],
   "source": [
    "# plot histograms of salary distributions across company sizes\n",
    "\n",
    "fig, ax = plt.subplots(3, 1, figsize=(15, 15))\n",
    "\n",
    "# salary distribution across large companies\n",
    "ax[0].hist(df[df['company_size'] == 'Large']['salary_in_cad'])\n",
    "ax[0].set_title('Salary Distribution Across Large Companies')\n",
    "ax[0].set_xlabel('Salary')\n",
    "ax[0].set_ylabel('Frequency')\n",
    "\n",
    "# salary distribution across medium companies\n",
    "ax[1].hist(df[df['company_size'] == 'Medium']['salary_in_cad'])\n",
    "ax[1].set_title('Salary Distribution Across Medium Companies')\n",
    "ax[1].set_xlabel('Salary')\n",
    "ax[1].set_ylabel('Frequency')\n",
    "\n",
    "# salary distribution across small companies\n",
    "ax[2].hist(df[df['company_size'] == 'Small']['salary_in_cad'])\n",
    "ax[2].set_title('Salary Distribution Across Small Companies')\n",
    "ax[2].set_xlabel('Salary')\n",
    "ax[2].set_ylabel('Frequency')\n",
    "\n",
    "plt.subplots_adjust(hspace = 0.4);"
   ]
  },
  {
   "cell_type": "code",
   "execution_count": 32,
   "id": "2f188ead",
   "metadata": {},
   "outputs": [
    {
     "data": {
      "image/png": "[encoded data removed]",
      "text/plain": [
       "<Figure size 720x576 with 1 Axes>"
      ]
     },
     "metadata": {
      "needs_background": "light"
     },
     "output_type": "display_data"
    }
   ],
   "source": [
    "# plot a violin plot of salary against company location\n",
    "\n",
    "plt.figure(figsize=(10, 8))\n",
    "\n",
    "sns.violinplot(data = df, x = 'company_location', y = 'salary_in_cad', inner = 'quartile')\n",
    "plt.title('Salary Distribution Against Company Location')\n",
    "plt.xlabel('Company Location')\n",
    "plt.ylabel('Salary');"
   ]
  },
  {
   "cell_type": "code",
   "execution_count": 33,
   "id": "5ed7fa3c",
   "metadata": {},
   "outputs": [
    {
     "data": {
      "image/png": "[encoded data removed]",
      "text/plain": [
       "<Figure size 1080x864 with 1 Axes>"
      ]
     },
     "metadata": {
      "needs_background": "light"
     },
     "output_type": "display_data"
    }
   ],
   "source": [
    "# plot box plots of salary against job title\n",
    "\n",
    "plt.figure(figsize=(15, 12))\n",
    "sns.boxplot(data=df, x='job_title', y='salary_in_cad')\n",
    "plt.title('Salary Distribution per Job Title')\n",
    "plt.xlabel('Job Title')\n",
    "plt.ylabel('Salary')\n",
    "plt.show()"
   ]
  },
  {
   "cell_type": "code",
   "execution_count": 34,
   "id": "236d6f10",
   "metadata": {},
   "outputs": [
    {
     "data": {
      "image/png": "[encoded data removed]",
      "text/plain": [
       "<Figure size 1080x864 with 1 Axes>"
      ]
     },
     "metadata": {
      "needs_background": "light"
     },
     "output_type": "display_data"
    }
   ],
   "source": [
    "# plot box plot of salary against remote status\n",
    "\n",
    "plt.figure(figsize=(15, 12))\n",
    "sns.boxplot(data=df, x='remote_status', y='salary_in_cad')\n",
    "plt.title('Salary Distribution per Remote Status')\n",
    "plt.xlabel('Remote Status')\n",
    "plt.ylabel('Salary')\n",
    "plt.show()"
   ]
  },
  {
   "cell_type": "markdown",
   "id": "0e570508",
   "metadata": {},
   "source": [
    "> The boxplots above show that for both user types, females had the lowest median age that made rentals, followed by males which was slightly higher, while others had the highest median age, with all median ages being in the early thirties. The females in both user types had similar quartiles, males in both user types also had similar quartiles; however, the other category had smaller quartiles in customers than in subscribers. Also, all genders across both customers and subsribers had outliers due to the drastic reduction in rentals as ages increased."
   ]
  },
  {
   "cell_type": "code",
   "execution_count": 35,
   "id": "4cf2d4bb",
   "metadata": {},
   "outputs": [
    {
     "data": {
      "image/png": "[encoded data removed]",
      "text/plain": [
       "<Figure size 432x288 with 1 Axes>"
      ]
     },
     "metadata": {
      "needs_background": "light"
     },
     "output_type": "display_data"
    }
   ],
   "source": [
    "# plot an adapted bar chart of salary against experience level\n",
    "\n",
    "sns.pointplot(data=df, x='experience_level', y='salary_in_cad', linestyles = \"\")\n",
    "plt.title('Salary Distribution per Experience Level')\n",
    "plt.xlabel('Experience Level')\n",
    "plt.ylabel('Salary');"
   ]
  },
  {
   "cell_type": "code",
   "execution_count": 36,
   "id": "86cd7fdc",
   "metadata": {},
   "outputs": [],
   "source": [
    "# group salary by employment type\n",
    "\n",
    "average_salary = df.groupby('employment_type')['salary_in_cad'].mean()"
   ]
  },
  {
   "cell_type": "code",
   "execution_count": 37,
   "id": "bf1549a4",
   "metadata": {},
   "outputs": [
    {
     "data": {
      "image/png": "[encoded data removed]",
      "text/plain": [
       "<Figure size 864x576 with 1 Axes>"
      ]
     },
     "metadata": {
      "needs_background": "light"
     },
     "output_type": "display_data"
    }
   ],
   "source": [
    "# plot bar chart\n",
    "\n",
    "plt.figure(figsize=(12, 8))\n",
    "bar = plt.bar(average_salary.index, average_salary.values, color='skyblue')\n",
    "plt.title(\"Average Salary per Employment Type\")\n",
    "plt.xlabel(\"Employment Type\")\n",
    "plt.ylabel(\"Average Salary\")\n",
    "plt.show()"
   ]
  },
  {
   "cell_type": "markdown",
   "id": "dbfe73be",
   "metadata": {},
   "source": [
    "We will also plot multivariate visualizations to compare the salary distribution across two categorical columns"
   ]
  },
  {
   "cell_type": "code",
   "execution_count": 38,
   "id": "2f5aa04b",
   "metadata": {
    "scrolled": false
   },
   "outputs": [
    {
     "data": {
      "image/png": "[encoded data removed]",
      "text/plain": [
       "<Figure size 1080x864 with 1 Axes>"
      ]
     },
     "metadata": {
      "needs_background": "light"
     },
     "output_type": "display_data"
    }
   ],
   "source": [
    "# plot box plots of salary against company location and segment on the different company sizes\n",
    "\n",
    "plt.figure(figsize=(15, 12))\n",
    "sns.boxplot(data=df, x='company_location', y='salary_in_cad', hue = 'company_size')\n",
    "plt.title('Distribution of Salary Against Company Location per Company Size')\n",
    "plt.xlabel('Company Location')\n",
    "plt.ylabel('Salary')\n",
    "plt.legend(title = 'Company Size')\n",
    "plt.show()"
   ]
  },
  {
   "cell_type": "code",
   "execution_count": 39,
   "id": "a616dd3e",
   "metadata": {},
   "outputs": [
    {
     "data": {
      "image/png": "[encoded data removed]",
      "text/plain": [
       "<Figure size 1080x720 with 6 Axes>"
      ]
     },
     "metadata": {
      "needs_background": "light"
     },
     "output_type": "display_data"
    }
   ],
   "source": [
    "# plot boxplots of salaries against experience level and facet by job title\n",
    "\n",
    "g = sns.FacetGrid(data = df, col = 'job_title', col_wrap = 3, height = 5)\n",
    "g.map(sns.boxplot, 'experience_level', 'salary_in_cad', order = list(df['experience_level'].unique()))\n",
    "g.set_axis_labels(\"Experience Level\", \"Salary\");"
   ]
  },
  {
   "cell_type": "markdown",
   "id": "3efda626",
   "metadata": {},
   "source": [
    "### 3. What has been the trend over time of remote jobs in the Data Science field?"
   ]
  },
  {
   "cell_type": "code",
   "execution_count": 40,
   "id": "81039366",
   "metadata": {},
   "outputs": [
    {
     "data": {
      "image/png": "[encoded data removed]",
      "text/plain": [
       "<Figure size 864x576 with 1 Axes>"
      ]
     },
     "metadata": {
      "needs_background": "light"
     },
     "output_type": "display_data"
    }
   ],
   "source": [
    "# plot bar chart of remote status\n",
    "\n",
    "plt.figure(figsize=(12, 8))\n",
    "sns.countplot(data = df, x = 'remote_status', color='skyblue', order = df['remote_status'].value_counts().index)\n",
    "plt.title('Job Frequency per Remote Status')\n",
    "plt.xlabel('Remote Status')\n",
    "plt.ylabel('Count')\n",
    "plt.show()"
   ]
  },
  {
   "cell_type": "code",
   "execution_count": 41,
   "id": "00a11545",
   "metadata": {},
   "outputs": [
    {
     "data": {
      "image/png": "[encoded data removed]",
      "text/plain": [
       "<Figure size 864x576 with 1 Axes>"
      ]
     },
     "metadata": {
      "needs_background": "light"
     },
     "output_type": "display_data"
    }
   ],
   "source": [
    "# plot clustered bar chart of work year and remote status\n",
    "\n",
    "plt.figure(figsize=(12, 8))\n",
    "sns.countplot(data = df, x = 'work_year', hue = 'remote_status')\n",
    "plt.title('Clustered Bar Chart of Year and Remote Status')\n",
    "plt.xlabel('Year')\n",
    "plt.ylabel('Count')\n",
    "plt.legend(title = 'Remote Status')\n",
    "plt.show()"
   ]
  },
  {
   "cell_type": "markdown",
   "id": "590b009b",
   "metadata": {},
   "source": [
    "### 4. What has the distribution of Data Science job titles been over the years, as well as the distribution per experience level and remote status?"
   ]
  },
  {
   "cell_type": "code",
   "execution_count": 42,
   "id": "9cfd1ce7",
   "metadata": {},
   "outputs": [],
   "source": [
    "# view the distribution of data science industry positions\n",
    "\n",
    "job_total = df['job_title'].value_counts()"
   ]
  },
  {
   "cell_type": "code",
   "execution_count": 43,
   "id": "cab807a5",
   "metadata": {},
   "outputs": [
    {
     "data": {
      "image/png": "[encoded data removed]",
      "text/plain": [
       "<Figure size 864x576 with 1 Axes>"
      ]
     },
     "metadata": {
      "needs_background": "light"
     },
     "output_type": "display_data"
    }
   ],
   "source": [
    "# create a bar chart that shows the distribution of jobs \n",
    "\n",
    "plt.figure(figsize=(12, 8))\n",
    "plt.bar(job_total.index, job_total.values, color='skyblue')\n",
    "plt.title(\"Data Science Job Distribution\")\n",
    "plt.xlabel(\"Job Title\")\n",
    "plt.ylabel(\"Count\")\n",
    "plt.xticks(rotation = 35)\n",
    "plt.show()"
   ]
  },
  {
   "cell_type": "markdown",
   "id": "2e9fc727-c79a-4315-a438-589b99ab2c8d",
   "metadata": {},
   "source": [
    "This visualization shows the different job titles shown on our dataset along the x-axis, with their corresponding frequency displayed along the y-axis. This allows us to easily view the distribution of the various job titles in our dataset."
   ]
  },
  {
   "cell_type": "code",
   "execution_count": 44,
   "id": "df16c0e2",
   "metadata": {},
   "outputs": [
    {
     "data": {
      "image/png": "[encoded data removed]",
      "text/plain": [
       "<Figure size 864x576 with 1 Axes>"
      ]
     },
     "metadata": {
      "needs_background": "light"
     },
     "output_type": "display_data"
    }
   ],
   "source": [
    "# plot clustered bar chart of job title and work year\n",
    "\n",
    "plt.figure(figsize=(12, 8))\n",
    "sns.countplot(data = df, x = 'job_title', hue = 'work_year')\n",
    "plt.title('Clustered Bar Chart of Job Title and Year')\n",
    "plt.xlabel('Job Title')\n",
    "plt.ylabel('Count')\n",
    "plt.legend(title = 'Year')\n",
    "plt.show()"
   ]
  },
  {
   "cell_type": "code",
   "execution_count": 45,
   "id": "27e4cdbb",
   "metadata": {},
   "outputs": [
    {
     "data": {
      "image/png": "[encoded data removed]",
      "text/plain": [
       "<Figure size 864x576 with 1 Axes>"
      ]
     },
     "metadata": {
      "needs_background": "light"
     },
     "output_type": "display_data"
    }
   ],
   "source": [
    "# plot clustered bar chart of job title and remote status\n",
    "\n",
    "plt.figure(figsize=(12, 8))\n",
    "sns.countplot(data = df, x = 'job_title', hue = 'remote_status')\n",
    "plt.title('Clustered Bar Chart of Job Title and Remote Status')\n",
    "plt.xlabel('Job Title')\n",
    "plt.ylabel('Count')\n",
    "plt.legend(title = 'Remote Status')\n",
    "plt.show()"
   ]
  },
  {
   "cell_type": "code",
   "execution_count": 46,
   "id": "2a78948d",
   "metadata": {},
   "outputs": [],
   "source": [
    "# determine count of experience levels\n",
    "\n",
    "experience_count = df['experience_level'].value_counts()"
   ]
  },
  {
   "cell_type": "code",
   "execution_count": 47,
   "id": "cd65f715",
   "metadata": {},
   "outputs": [
    {
     "data": {
      "image/png": "[encoded data removed]",
      "text/plain": [
       "<Figure size 864x576 with 1 Axes>"
      ]
     },
     "metadata": {},
     "output_type": "display_data"
    }
   ],
   "source": [
    "# plot pie chart of experience levels\n",
    "\n",
    "plt.figure(figsize=(12, 8))\n",
    "plt.pie(experience_count.values, labels = experience_count.index, autopct='%1.2f%%', shadow=True)\n",
    "plt.title(\"Proportion of Experience Levels\")\n",
    "plt.axis('equal')\n",
    "plt.show()"
   ]
  },
  {
   "cell_type": "code",
   "execution_count": 48,
   "id": "447a6cb0",
   "metadata": {},
   "outputs": [
    {
     "data": {
      "image/png": "[encoded data removed]",
      "text/plain": [
       "<Figure size 864x576 with 1 Axes>"
      ]
     },
     "metadata": {
      "needs_background": "light"
     },
     "output_type": "display_data"
    }
   ],
   "source": [
    "# plot clustered bar chart of work year and experience level\n",
    "\n",
    "plt.figure(figsize=(12, 8))\n",
    "sns.countplot(data = df, x = 'work_year', hue = 'experience_level')\n",
    "plt.title('Clustered Bar Chart of Year and Experience Level')\n",
    "plt.xlabel('Job Title')\n",
    "plt.ylabel('Count')\n",
    "plt.legend(title = 'Experience Level')\n",
    "plt.show()"
   ]
  },
  {
   "cell_type": "code",
   "execution_count": 49,
   "id": "3644730d",
   "metadata": {},
   "outputs": [
    {
     "data": {
      "image/png": "[encoded data removed]",
      "text/plain": [
       "<Figure size 864x576 with 1 Axes>"
      ]
     },
     "metadata": {
      "needs_background": "light"
     },
     "output_type": "display_data"
    }
   ],
   "source": [
    "# plot clustered bar chart of job title and experience level\n",
    "\n",
    "plt.figure(figsize=(12, 8))\n",
    "sns.countplot(data = df, x = 'experience_level', hue = 'job_title')\n",
    "plt.title('Clustered Bar Chart of Experience Level and Job Title')\n",
    "plt.xlabel('Job Title')\n",
    "plt.ylabel('Count')\n",
    "plt.legend(title = 'Experience Level')\n",
    "plt.show()"
   ]
  },
  {
   "cell_type": "markdown",
   "id": "b1981a85",
   "metadata": {},
   "source": [
    "### 5. What are the in demand skills in the Data Science field?"
   ]
  },
  {
   "cell_type": "code",
   "execution_count": null,
   "id": "519f293f",
   "metadata": {},
   "outputs": [],
   "source": []
  },
  {
   "cell_type": "code",
   "execution_count": null,
   "id": "429f8a6a",
   "metadata": {},
   "outputs": [],
   "source": []
  },
  {
   "cell_type": "code",
   "execution_count": null,
   "id": "65774a71",
   "metadata": {},
   "outputs": [],
   "source": []
  },
  {
   "cell_type": "markdown",
   "id": "a824d6e2",
   "metadata": {},
   "source": [
    "### 6. What are the proportions of employment types in the Data Science field?"
   ]
  },
  {
   "cell_type": "code",
   "execution_count": 50,
   "id": "c60d6f78",
   "metadata": {},
   "outputs": [
    {
     "data": {
      "image/png": "[encoded data removed]",
      "text/plain": [
       "<Figure size 720x432 with 1 Axes>"
      ]
     },
     "metadata": {
      "needs_background": "light"
     },
     "output_type": "display_data"
    }
   ],
   "source": [
    "# plot bar chart of employment types\n",
    "\n",
    "plt.figure(figsize=(10, 6))\n",
    "\n",
    "sns.countplot(data = df, x = 'employment_type', order = df['employment_type'].value_counts().index)\n",
    "plt.title('Distribution  of Employment Types')\n",
    "plt.xlabel('Employment Type')\n",
    "plt.ylabel('Count');"
   ]
  },
  {
   "cell_type": "markdown",
   "id": "cae05653",
   "metadata": {},
   "source": [
    "## Hypothesis Testing"
   ]
  },
  {
   "cell_type": "markdown",
   "id": "a1f91b5d",
   "metadata": {},
   "source": [
    "Hypothesis testing would be performed on some variables of the dataset. T test would be performed on the continuous variable (salaries) while chi squared test would be performed on some categorical variables"
   ]
  },
  {
   "cell_type": "markdown",
   "id": "e7b7a614",
   "metadata": {},
   "source": [
    "### T-Test"
   ]
  },
  {
   "cell_type": "markdown",
   "id": "88148291",
   "metadata": {},
   "source": [
    "Define Null and Alternate Hypotheses\n",
    "\n",
    "- Null Hypothesis: There is no significant difference between the salaries of two selected job titles\n",
    "- Alternate Hypothesis: There is a significant difference between the salaries of two selected job titles"
   ]
  },
  {
   "cell_type": "code",
   "execution_count": 51,
   "id": "928f97cd",
   "metadata": {},
   "outputs": [],
   "source": [
    "# define function to compute the t-test of salaries between job titles using a significance level of 0.05\n",
    "\n",
    "def ttest(df, type1, type2, salary_in_cad):\n",
    "    df1 = df[df['job_title'] == type1]\n",
    "    df2 = df[df['job_title'] == type2]\n",
    "\n",
    "    #determine the pvalue of the t-test\n",
    "\n",
    "    test = ttest_ind(df1[salary_in_cad], df2[salary_in_cad])\n",
    "\n",
    "    print('The pvalue of the t-test is: {}'.format(test.pvalue))\n",
    "\n",
    "    if test.pvalue < 0.05:\n",
    "        return('There is a significant difference between the salaries of {}s and {}s'.format(type1, type2))\n",
    "    else:\n",
    "        return('There is no significant difference between the salaries of {}s and {}s'.format(type1, type2))"
   ]
  },
  {
   "cell_type": "code",
   "execution_count": 52,
   "id": "6676d92d",
   "metadata": {},
   "outputs": [
    {
     "name": "stdout",
     "output_type": "stream",
     "text": [
      "The pvalue of the t-test is: 7.5721355275083655e-56\n"
     ]
    },
    {
     "data": {
      "text/plain": [
       "'There is a significant difference between the salaries of Data Scientists and Data Analysts'"
      ]
     },
     "execution_count": 52,
     "metadata": {},
     "output_type": "execute_result"
    }
   ],
   "source": [
    "# run the function on Data Scientist and Data Analyst salaries\n",
    "\n",
    "ttest(df, 'Data Scientist', 'Data Analyst', 'salary_in_cad')"
   ]
  },
  {
   "cell_type": "code",
   "execution_count": null,
   "id": "2bef3c5b",
   "metadata": {},
   "outputs": [],
   "source": []
  },
  {
   "cell_type": "code",
   "execution_count": 53,
   "id": "9bb2b1ec",
   "metadata": {},
   "outputs": [
    {
     "data": {
      "text/plain": [
       "array(['Machine Learning Engineer', 'Data Scientist', 'Data Analyst',\n",
       "       'Others', 'Data Engineer', 'Data Architect'], dtype=object)"
      ]
     },
     "execution_count": 53,
     "metadata": {},
     "output_type": "execute_result"
    }
   ],
   "source": [
    "# create list of unique job titles\n",
    "\n",
    "titles = df['job_title'].unique()\n",
    "titles"
   ]
  },
  {
   "cell_type": "code",
   "execution_count": 54,
   "id": "1f9ee967",
   "metadata": {},
   "outputs": [
    {
     "data": {
      "text/html": [
       "<div>\n",
       "<style scoped>\n",
       "    .dataframe tbody tr th:only-of-type {\n",
       "        vertical-align: middle;\n",
       "    }\n",
       "\n",
       "    .dataframe tbody tr th {\n",
       "        vertical-align: top;\n",
       "    }\n",
       "\n",
       "    .dataframe thead th {\n",
       "        text-align: right;\n",
       "    }\n",
       "</style>\n",
       "<table border=\"1\" class=\"dataframe\">\n",
       "  <thead>\n",
       "    <tr style=\"text-align: right;\">\n",
       "      <th></th>\n",
       "      <th>Machine Learning Engineer</th>\n",
       "      <th>Data Scientist</th>\n",
       "      <th>Data Analyst</th>\n",
       "      <th>Others</th>\n",
       "      <th>Data Engineer</th>\n",
       "      <th>Data Architect</th>\n",
       "    </tr>\n",
       "  </thead>\n",
       "  <tbody>\n",
       "    <tr>\n",
       "      <th>Machine Learning Engineer</th>\n",
       "      <td>0.0</td>\n",
       "      <td>0.0</td>\n",
       "      <td>0.0</td>\n",
       "      <td>0.0</td>\n",
       "      <td>0.0</td>\n",
       "      <td>0.0</td>\n",
       "    </tr>\n",
       "    <tr>\n",
       "      <th>Data Scientist</th>\n",
       "      <td>0.0</td>\n",
       "      <td>0.0</td>\n",
       "      <td>0.0</td>\n",
       "      <td>0.0</td>\n",
       "      <td>0.0</td>\n",
       "      <td>0.0</td>\n",
       "    </tr>\n",
       "    <tr>\n",
       "      <th>Data Analyst</th>\n",
       "      <td>0.0</td>\n",
       "      <td>0.0</td>\n",
       "      <td>0.0</td>\n",
       "      <td>0.0</td>\n",
       "      <td>0.0</td>\n",
       "      <td>0.0</td>\n",
       "    </tr>\n",
       "    <tr>\n",
       "      <th>Others</th>\n",
       "      <td>0.0</td>\n",
       "      <td>0.0</td>\n",
       "      <td>0.0</td>\n",
       "      <td>0.0</td>\n",
       "      <td>0.0</td>\n",
       "      <td>0.0</td>\n",
       "    </tr>\n",
       "    <tr>\n",
       "      <th>Data Engineer</th>\n",
       "      <td>0.0</td>\n",
       "      <td>0.0</td>\n",
       "      <td>0.0</td>\n",
       "      <td>0.0</td>\n",
       "      <td>0.0</td>\n",
       "      <td>0.0</td>\n",
       "    </tr>\n",
       "    <tr>\n",
       "      <th>Data Architect</th>\n",
       "      <td>0.0</td>\n",
       "      <td>0.0</td>\n",
       "      <td>0.0</td>\n",
       "      <td>0.0</td>\n",
       "      <td>0.0</td>\n",
       "      <td>0.0</td>\n",
       "    </tr>\n",
       "  </tbody>\n",
       "</table>\n",
       "</div>"
      ],
      "text/plain": [
       "                           Machine Learning Engineer  Data Scientist  \\\n",
       "Machine Learning Engineer                        0.0             0.0   \n",
       "Data Scientist                                   0.0             0.0   \n",
       "Data Analyst                                     0.0             0.0   \n",
       "Others                                           0.0             0.0   \n",
       "Data Engineer                                    0.0             0.0   \n",
       "Data Architect                                   0.0             0.0   \n",
       "\n",
       "                           Data Analyst  Others  Data Engineer  Data Architect  \n",
       "Machine Learning Engineer           0.0     0.0            0.0             0.0  \n",
       "Data Scientist                      0.0     0.0            0.0             0.0  \n",
       "Data Analyst                        0.0     0.0            0.0             0.0  \n",
       "Others                              0.0     0.0            0.0             0.0  \n",
       "Data Engineer                       0.0     0.0            0.0             0.0  \n",
       "Data Architect                      0.0     0.0            0.0             0.0  "
      ]
     },
     "execution_count": 54,
     "metadata": {},
     "output_type": "execute_result"
    }
   ],
   "source": [
    "# create empty dataframe to be replaced later by computed p-values\n",
    "\n",
    "ttest_p_vals = pd.DataFrame(np.zeros((len(titles), len(titles))), columns=titles, index=titles)\n",
    "ttest_p_vals"
   ]
  },
  {
   "cell_type": "code",
   "execution_count": 55,
   "id": "e60a7d6f",
   "metadata": {},
   "outputs": [],
   "source": [
    "# write for loop to compute p-values across columns\n",
    "\n",
    "for i in range(len(titles)):\n",
    "    for j in range(len(titles)):\n",
    "        df1 = df[df['job_title'] == titles[i]]\n",
    "        df2 = df[df['job_title'] == titles[j]]\n",
    "        \n",
    "        test = ttest_ind(df1['salary_in_cad'], df2['salary_in_cad'])\n",
    "        \n",
    "        ttest_p_vals.iloc[i, j] = test.pvalue"
   ]
  },
  {
   "cell_type": "code",
   "execution_count": 56,
   "id": "b497dca8",
   "metadata": {},
   "outputs": [
    {
     "data": {
      "text/html": [
       "<div>\n",
       "<style scoped>\n",
       "    .dataframe tbody tr th:only-of-type {\n",
       "        vertical-align: middle;\n",
       "    }\n",
       "\n",
       "    .dataframe tbody tr th {\n",
       "        vertical-align: top;\n",
       "    }\n",
       "\n",
       "    .dataframe thead th {\n",
       "        text-align: right;\n",
       "    }\n",
       "</style>\n",
       "<table border=\"1\" class=\"dataframe\">\n",
       "  <thead>\n",
       "    <tr style=\"text-align: right;\">\n",
       "      <th></th>\n",
       "      <th>Machine Learning Engineer</th>\n",
       "      <th>Data Scientist</th>\n",
       "      <th>Data Analyst</th>\n",
       "      <th>Others</th>\n",
       "      <th>Data Engineer</th>\n",
       "      <th>Data Architect</th>\n",
       "    </tr>\n",
       "  </thead>\n",
       "  <tbody>\n",
       "    <tr>\n",
       "      <th>Machine Learning Engineer</th>\n",
       "      <td>1.000000e+00</td>\n",
       "      <td>3.323660e-02</td>\n",
       "      <td>1.382059e-46</td>\n",
       "      <td>1.162180e-03</td>\n",
       "      <td>3.178612e-08</td>\n",
       "      <td>1.276711e-01</td>\n",
       "    </tr>\n",
       "    <tr>\n",
       "      <th>Data Scientist</th>\n",
       "      <td>3.323660e-02</td>\n",
       "      <td>1.000000e+00</td>\n",
       "      <td>7.572136e-56</td>\n",
       "      <td>3.861637e-02</td>\n",
       "      <td>2.287169e-06</td>\n",
       "      <td>8.089080e-01</td>\n",
       "    </tr>\n",
       "    <tr>\n",
       "      <th>Data Analyst</th>\n",
       "      <td>1.382059e-46</td>\n",
       "      <td>7.572136e-56</td>\n",
       "      <td>1.000000e+00</td>\n",
       "      <td>1.738384e-11</td>\n",
       "      <td>6.695576e-33</td>\n",
       "      <td>3.723622e-16</td>\n",
       "    </tr>\n",
       "    <tr>\n",
       "      <th>Others</th>\n",
       "      <td>1.162180e-03</td>\n",
       "      <td>3.861637e-02</td>\n",
       "      <td>1.738384e-11</td>\n",
       "      <td>1.000000e+00</td>\n",
       "      <td>8.752295e-01</td>\n",
       "      <td>1.936139e-01</td>\n",
       "    </tr>\n",
       "    <tr>\n",
       "      <th>Data Engineer</th>\n",
       "      <td>3.178612e-08</td>\n",
       "      <td>2.287169e-06</td>\n",
       "      <td>6.695576e-33</td>\n",
       "      <td>8.752295e-01</td>\n",
       "      <td>1.000000e+00</td>\n",
       "      <td>5.985401e-02</td>\n",
       "    </tr>\n",
       "    <tr>\n",
       "      <th>Data Architect</th>\n",
       "      <td>1.276711e-01</td>\n",
       "      <td>8.089080e-01</td>\n",
       "      <td>3.723622e-16</td>\n",
       "      <td>1.936139e-01</td>\n",
       "      <td>5.985401e-02</td>\n",
       "      <td>1.000000e+00</td>\n",
       "    </tr>\n",
       "  </tbody>\n",
       "</table>\n",
       "</div>"
      ],
      "text/plain": [
       "                           Machine Learning Engineer  Data Scientist  \\\n",
       "Machine Learning Engineer               1.000000e+00    3.323660e-02   \n",
       "Data Scientist                          3.323660e-02    1.000000e+00   \n",
       "Data Analyst                            1.382059e-46    7.572136e-56   \n",
       "Others                                  1.162180e-03    3.861637e-02   \n",
       "Data Engineer                           3.178612e-08    2.287169e-06   \n",
       "Data Architect                          1.276711e-01    8.089080e-01   \n",
       "\n",
       "                           Data Analyst        Others  Data Engineer  \\\n",
       "Machine Learning Engineer  1.382059e-46  1.162180e-03   3.178612e-08   \n",
       "Data Scientist             7.572136e-56  3.861637e-02   2.287169e-06   \n",
       "Data Analyst               1.000000e+00  1.738384e-11   6.695576e-33   \n",
       "Others                     1.738384e-11  1.000000e+00   8.752295e-01   \n",
       "Data Engineer              6.695576e-33  8.752295e-01   1.000000e+00   \n",
       "Data Architect             3.723622e-16  1.936139e-01   5.985401e-02   \n",
       "\n",
       "                           Data Architect  \n",
       "Machine Learning Engineer    1.276711e-01  \n",
       "Data Scientist               8.089080e-01  \n",
       "Data Analyst                 3.723622e-16  \n",
       "Others                       1.936139e-01  \n",
       "Data Engineer                5.985401e-02  \n",
       "Data Architect               1.000000e+00  "
      ]
     },
     "metadata": {},
     "output_type": "display_data"
    }
   ],
   "source": [
    "# view ttest_p_vals\n",
    "\n",
    "display(ttest_p_vals)"
   ]
  },
  {
   "cell_type": "code",
   "execution_count": 57,
   "id": "1a35fe69",
   "metadata": {},
   "outputs": [
    {
     "data": {
      "image/png": "[encoded data removed]",
      "text/plain": [
       "<Figure size 864x576 with 2 Axes>"
      ]
     },
     "metadata": {
      "needs_background": "light"
     },
     "output_type": "display_data"
    }
   ],
   "source": [
    "# visualize heatmap of t-test p-values\n",
    "\n",
    "fig, ax = plt.subplots(figsize=(12, 8))\n",
    "\n",
    "im = ax.imshow(ttest_p_vals)\n",
    "\n",
    "# Show all ticks and label them with the respective list entries\n",
    "ax.set_xticks(range(len(ttest_p_vals.columns)))\n",
    "\n",
    "ax.set_xticklabels(labels=ttest_p_vals.columns,\n",
    "              rotation=90, ha=\"right\", rotation_mode=\"anchor\")\n",
    "\n",
    "ax.set_yticks(range(len(ttest_p_vals.index)))\n",
    "\n",
    "ax.set_yticklabels(labels=ttest_p_vals.index,\n",
    "              ha=\"right\", rotation_mode=\"anchor\")\n",
    "\n",
    "# Loop over data dimensions and create text annotations\n",
    "for i in range(len(ttest_p_vals.index)):\n",
    "    for j in range(len(ttest_p_vals.columns)):\n",
    "        text = ax.text(j, i, round(ttest_p_vals.iloc[i, j], 2),\n",
    "                       ha=\"center\", va=\"center\", color=\"w\")\n",
    "\n",
    "ax.set_title(\"Chi-Square P Values\")\n",
    "ax.set_xlabel(\"Categorical Columns\")\n",
    "ax.set_ylabel(\"Categorical Columns\")\n",
    "ax.figure.colorbar(im)\n",
    "plt.show()"
   ]
  },
  {
   "cell_type": "markdown",
   "id": "b3fcf4fb",
   "metadata": {},
   "source": [
    "### Chi-Squared Test"
   ]
  },
  {
   "cell_type": "markdown",
   "id": "1d2fef6b",
   "metadata": {},
   "source": [
    "Define Null and Alternate Hypotheses\n",
    "\n",
    "- Null Hypothesis: The two variables are independent and there is no relationship\n",
    "- Alternate Hypothesis: The two variables are dependent and there is a relationship"
   ]
  },
  {
   "cell_type": "code",
   "execution_count": 58,
   "id": "1068f2ca",
   "metadata": {},
   "outputs": [],
   "source": [
    "# define function to compute the chi-squared test of two actegorical variables using a significance level of 0.05\n",
    "\n",
    "def chi(df, column1, column2):\n",
    "    \n",
    "    # create frequency table of variables to be used for chi-squared test\n",
    "    df_chi = pd.crosstab(df[column1], df[column2])\n",
    "    \n",
    "    # run chi-squared test\n",
    "    test = chi2_contingency(df_chi)\n",
    "    \n",
    "    # determine the pvalue of the test\n",
    "    print('The pvalue of the t-test is: {}'.format(test[1]))\n",
    "\n",
    "    if test[1] < 0.05:\n",
    "        return('{} and {} are dependent variables and there is a relationship between them'.format(column1, column2))\n",
    "    else:\n",
    "        return('{} and {} are independent variables and there is no relationship between them'.format(column1, column2))"
   ]
  },
  {
   "cell_type": "code",
   "execution_count": 59,
   "id": "a3e534da",
   "metadata": {},
   "outputs": [
    {
     "name": "stdout",
     "output_type": "stream",
     "text": [
      "The pvalue of the t-test is: 7.639310513261271e-11\n"
     ]
    },
    {
     "data": {
      "text/plain": [
       "'job_title and remote_status are dependent variables and there is a relationship between them'"
      ]
     },
     "execution_count": 59,
     "metadata": {},
     "output_type": "execute_result"
    }
   ],
   "source": [
    "# run the function on job_title and remote_status columns\n",
    "\n",
    "chi(df, 'job_title', 'remote_status')"
   ]
  },
  {
   "cell_type": "code",
   "execution_count": 60,
   "id": "6575b1f9",
   "metadata": {},
   "outputs": [
    {
     "name": "stdout",
     "output_type": "stream",
     "text": [
      "The pvalue of the t-test is: 1.3310479656308387e-34\n"
     ]
    },
    {
     "data": {
      "text/plain": [
       "'experience_level and company_size are dependent variables and there is a relationship between them'"
      ]
     },
     "execution_count": 60,
     "metadata": {},
     "output_type": "execute_result"
    }
   ],
   "source": [
    "# run the function on experience_level company_size columns\n",
    "\n",
    "chi(df, 'experience_level', 'company_size')"
   ]
  },
  {
   "cell_type": "code",
   "execution_count": null,
   "id": "3609ca4a",
   "metadata": {},
   "outputs": [],
   "source": []
  },
  {
   "cell_type": "code",
   "execution_count": 61,
   "id": "6a115ce7",
   "metadata": {},
   "outputs": [
    {
     "data": {
      "text/html": [
       "<div>\n",
       "<style scoped>\n",
       "    .dataframe tbody tr th:only-of-type {\n",
       "        vertical-align: middle;\n",
       "    }\n",
       "\n",
       "    .dataframe tbody tr th {\n",
       "        vertical-align: top;\n",
       "    }\n",
       "\n",
       "    .dataframe thead th {\n",
       "        text-align: right;\n",
       "    }\n",
       "</style>\n",
       "<table border=\"1\" class=\"dataframe\">\n",
       "  <thead>\n",
       "    <tr style=\"text-align: right;\">\n",
       "      <th></th>\n",
       "      <th>work_year</th>\n",
       "      <th>experience_level</th>\n",
       "      <th>employment_type</th>\n",
       "      <th>job_title</th>\n",
       "      <th>company_location</th>\n",
       "      <th>company_size</th>\n",
       "      <th>remote_status</th>\n",
       "    </tr>\n",
       "  </thead>\n",
       "  <tbody>\n",
       "    <tr>\n",
       "      <th>1</th>\n",
       "      <td>2023</td>\n",
       "      <td>Mid</td>\n",
       "      <td>Contract</td>\n",
       "      <td>Machine Learning Engineer</td>\n",
       "      <td>US</td>\n",
       "      <td>Small</td>\n",
       "      <td>Fully Remote</td>\n",
       "    </tr>\n",
       "    <tr>\n",
       "      <th>2</th>\n",
       "      <td>2023</td>\n",
       "      <td>Mid</td>\n",
       "      <td>Contract</td>\n",
       "      <td>Machine Learning Engineer</td>\n",
       "      <td>US</td>\n",
       "      <td>Small</td>\n",
       "      <td>Fully Remote</td>\n",
       "    </tr>\n",
       "    <tr>\n",
       "      <th>3</th>\n",
       "      <td>2023</td>\n",
       "      <td>Senior</td>\n",
       "      <td>Full Time</td>\n",
       "      <td>Data Scientist</td>\n",
       "      <td>CA</td>\n",
       "      <td>Medium</td>\n",
       "      <td>Fully Remote</td>\n",
       "    </tr>\n",
       "    <tr>\n",
       "      <th>4</th>\n",
       "      <td>2023</td>\n",
       "      <td>Senior</td>\n",
       "      <td>Full Time</td>\n",
       "      <td>Data Scientist</td>\n",
       "      <td>CA</td>\n",
       "      <td>Medium</td>\n",
       "      <td>Fully Remote</td>\n",
       "    </tr>\n",
       "    <tr>\n",
       "      <th>5</th>\n",
       "      <td>2023</td>\n",
       "      <td>Senior</td>\n",
       "      <td>Full Time</td>\n",
       "      <td>Data Scientist</td>\n",
       "      <td>US</td>\n",
       "      <td>Large</td>\n",
       "      <td>In-Person</td>\n",
       "    </tr>\n",
       "    <tr>\n",
       "      <th>...</th>\n",
       "      <td>...</td>\n",
       "      <td>...</td>\n",
       "      <td>...</td>\n",
       "      <td>...</td>\n",
       "      <td>...</td>\n",
       "      <td>...</td>\n",
       "      <td>...</td>\n",
       "    </tr>\n",
       "    <tr>\n",
       "      <th>3749</th>\n",
       "      <td>2021</td>\n",
       "      <td>Senior</td>\n",
       "      <td>Full Time</td>\n",
       "      <td>Others</td>\n",
       "      <td>US</td>\n",
       "      <td>Large</td>\n",
       "      <td>Fully Remote</td>\n",
       "    </tr>\n",
       "    <tr>\n",
       "      <th>3750</th>\n",
       "      <td>2020</td>\n",
       "      <td>Senior</td>\n",
       "      <td>Full Time</td>\n",
       "      <td>Data Scientist</td>\n",
       "      <td>US</td>\n",
       "      <td>Large</td>\n",
       "      <td>Fully Remote</td>\n",
       "    </tr>\n",
       "    <tr>\n",
       "      <th>3751</th>\n",
       "      <td>2021</td>\n",
       "      <td>Mid</td>\n",
       "      <td>Full Time</td>\n",
       "      <td>Data Scientist</td>\n",
       "      <td>US</td>\n",
       "      <td>Large</td>\n",
       "      <td>Fully Remote</td>\n",
       "    </tr>\n",
       "    <tr>\n",
       "      <th>3752</th>\n",
       "      <td>2020</td>\n",
       "      <td>Entry</td>\n",
       "      <td>Full Time</td>\n",
       "      <td>Data Scientist</td>\n",
       "      <td>US</td>\n",
       "      <td>Small</td>\n",
       "      <td>Fully Remote</td>\n",
       "    </tr>\n",
       "    <tr>\n",
       "      <th>3753</th>\n",
       "      <td>2020</td>\n",
       "      <td>Entry</td>\n",
       "      <td>Contract</td>\n",
       "      <td>Data Analyst</td>\n",
       "      <td>US</td>\n",
       "      <td>Large</td>\n",
       "      <td>Fully Remote</td>\n",
       "    </tr>\n",
       "  </tbody>\n",
       "</table>\n",
       "<p>3127 rows × 7 columns</p>\n",
       "</div>"
      ],
      "text/plain": [
       "      work_year experience_level employment_type                  job_title  \\\n",
       "1          2023              Mid        Contract  Machine Learning Engineer   \n",
       "2          2023              Mid        Contract  Machine Learning Engineer   \n",
       "3          2023           Senior       Full Time             Data Scientist   \n",
       "4          2023           Senior       Full Time             Data Scientist   \n",
       "5          2023           Senior       Full Time             Data Scientist   \n",
       "...         ...              ...             ...                        ...   \n",
       "3749       2021           Senior       Full Time                     Others   \n",
       "3750       2020           Senior       Full Time             Data Scientist   \n",
       "3751       2021              Mid       Full Time             Data Scientist   \n",
       "3752       2020            Entry       Full Time             Data Scientist   \n",
       "3753       2020            Entry        Contract               Data Analyst   \n",
       "\n",
       "     company_location company_size remote_status  \n",
       "1                  US        Small  Fully Remote  \n",
       "2                  US        Small  Fully Remote  \n",
       "3                  CA       Medium  Fully Remote  \n",
       "4                  CA       Medium  Fully Remote  \n",
       "5                  US        Large     In-Person  \n",
       "...               ...          ...           ...  \n",
       "3749               US        Large  Fully Remote  \n",
       "3750               US        Large  Fully Remote  \n",
       "3751               US        Large  Fully Remote  \n",
       "3752               US        Small  Fully Remote  \n",
       "3753               US        Large  Fully Remote  \n",
       "\n",
       "[3127 rows x 7 columns]"
      ]
     },
     "execution_count": 61,
     "metadata": {},
     "output_type": "execute_result"
    }
   ],
   "source": [
    "# create dataframe of categorical columns\n",
    "\n",
    "df_cat = df[['work_year', 'experience_level', 'employment_type', 'job_title',\n",
    "            'company_location', 'company_size', 'remote_status']]\n",
    "\n",
    "df_cat"
   ]
  },
  {
   "cell_type": "code",
   "execution_count": 62,
   "id": "29c187ad",
   "metadata": {},
   "outputs": [
    {
     "data": {
      "text/html": [
       "<div>\n",
       "<style scoped>\n",
       "    .dataframe tbody tr th:only-of-type {\n",
       "        vertical-align: middle;\n",
       "    }\n",
       "\n",
       "    .dataframe tbody tr th {\n",
       "        vertical-align: top;\n",
       "    }\n",
       "\n",
       "    .dataframe thead th {\n",
       "        text-align: right;\n",
       "    }\n",
       "</style>\n",
       "<table border=\"1\" class=\"dataframe\">\n",
       "  <thead>\n",
       "    <tr style=\"text-align: right;\">\n",
       "      <th></th>\n",
       "      <th>work_year</th>\n",
       "      <th>experience_level</th>\n",
       "      <th>employment_type</th>\n",
       "      <th>job_title</th>\n",
       "      <th>company_location</th>\n",
       "      <th>company_size</th>\n",
       "      <th>remote_status</th>\n",
       "    </tr>\n",
       "  </thead>\n",
       "  <tbody>\n",
       "    <tr>\n",
       "      <th>work_year</th>\n",
       "      <td>0.0</td>\n",
       "      <td>0.0</td>\n",
       "      <td>0.0</td>\n",
       "      <td>0.0</td>\n",
       "      <td>0.0</td>\n",
       "      <td>0.0</td>\n",
       "      <td>0.0</td>\n",
       "    </tr>\n",
       "    <tr>\n",
       "      <th>experience_level</th>\n",
       "      <td>0.0</td>\n",
       "      <td>0.0</td>\n",
       "      <td>0.0</td>\n",
       "      <td>0.0</td>\n",
       "      <td>0.0</td>\n",
       "      <td>0.0</td>\n",
       "      <td>0.0</td>\n",
       "    </tr>\n",
       "    <tr>\n",
       "      <th>employment_type</th>\n",
       "      <td>0.0</td>\n",
       "      <td>0.0</td>\n",
       "      <td>0.0</td>\n",
       "      <td>0.0</td>\n",
       "      <td>0.0</td>\n",
       "      <td>0.0</td>\n",
       "      <td>0.0</td>\n",
       "    </tr>\n",
       "    <tr>\n",
       "      <th>job_title</th>\n",
       "      <td>0.0</td>\n",
       "      <td>0.0</td>\n",
       "      <td>0.0</td>\n",
       "      <td>0.0</td>\n",
       "      <td>0.0</td>\n",
       "      <td>0.0</td>\n",
       "      <td>0.0</td>\n",
       "    </tr>\n",
       "    <tr>\n",
       "      <th>company_location</th>\n",
       "      <td>0.0</td>\n",
       "      <td>0.0</td>\n",
       "      <td>0.0</td>\n",
       "      <td>0.0</td>\n",
       "      <td>0.0</td>\n",
       "      <td>0.0</td>\n",
       "      <td>0.0</td>\n",
       "    </tr>\n",
       "    <tr>\n",
       "      <th>company_size</th>\n",
       "      <td>0.0</td>\n",
       "      <td>0.0</td>\n",
       "      <td>0.0</td>\n",
       "      <td>0.0</td>\n",
       "      <td>0.0</td>\n",
       "      <td>0.0</td>\n",
       "      <td>0.0</td>\n",
       "    </tr>\n",
       "    <tr>\n",
       "      <th>remote_status</th>\n",
       "      <td>0.0</td>\n",
       "      <td>0.0</td>\n",
       "      <td>0.0</td>\n",
       "      <td>0.0</td>\n",
       "      <td>0.0</td>\n",
       "      <td>0.0</td>\n",
       "      <td>0.0</td>\n",
       "    </tr>\n",
       "  </tbody>\n",
       "</table>\n",
       "</div>"
      ],
      "text/plain": [
       "                  work_year  experience_level  employment_type  job_title  \\\n",
       "work_year               0.0               0.0              0.0        0.0   \n",
       "experience_level        0.0               0.0              0.0        0.0   \n",
       "employment_type         0.0               0.0              0.0        0.0   \n",
       "job_title               0.0               0.0              0.0        0.0   \n",
       "company_location        0.0               0.0              0.0        0.0   \n",
       "company_size            0.0               0.0              0.0        0.0   \n",
       "remote_status           0.0               0.0              0.0        0.0   \n",
       "\n",
       "                  company_location  company_size  remote_status  \n",
       "work_year                      0.0           0.0            0.0  \n",
       "experience_level               0.0           0.0            0.0  \n",
       "employment_type                0.0           0.0            0.0  \n",
       "job_title                      0.0           0.0            0.0  \n",
       "company_location               0.0           0.0            0.0  \n",
       "company_size                   0.0           0.0            0.0  \n",
       "remote_status                  0.0           0.0            0.0  "
      ]
     },
     "execution_count": 62,
     "metadata": {},
     "output_type": "execute_result"
    }
   ],
   "source": [
    "# create empty dataframe to be replaced later by computed p-values\n",
    "\n",
    "chi_p_vals = pd.DataFrame(np.zeros((df_cat.shape[1], df_cat.shape[1])), columns=df_cat.columns, index=df_cat.columns)\n",
    "chi_p_vals"
   ]
  },
  {
   "cell_type": "code",
   "execution_count": 63,
   "id": "25c56073",
   "metadata": {},
   "outputs": [],
   "source": [
    "# write for loop to compute p-values across columns\n",
    "\n",
    "for i in range(df_cat.shape[1]):\n",
    "    for j in range(df_cat.shape[1]):\n",
    "        df_chi = pd.crosstab(df_cat.iloc[:,i], df_cat.iloc[:,j])\n",
    "        test = chi2_contingency(df_chi)\n",
    "        chi_p_vals.iloc[i, j] = test[1]"
   ]
  },
  {
   "cell_type": "code",
   "execution_count": 64,
   "id": "8ff15298",
   "metadata": {
    "scrolled": true
   },
   "outputs": [
    {
     "data": {
      "text/html": [
       "<div>\n",
       "<style scoped>\n",
       "    .dataframe tbody tr th:only-of-type {\n",
       "        vertical-align: middle;\n",
       "    }\n",
       "\n",
       "    .dataframe tbody tr th {\n",
       "        vertical-align: top;\n",
       "    }\n",
       "\n",
       "    .dataframe thead th {\n",
       "        text-align: right;\n",
       "    }\n",
       "</style>\n",
       "<table border=\"1\" class=\"dataframe\">\n",
       "  <thead>\n",
       "    <tr style=\"text-align: right;\">\n",
       "      <th></th>\n",
       "      <th>work_year</th>\n",
       "      <th>experience_level</th>\n",
       "      <th>employment_type</th>\n",
       "      <th>job_title</th>\n",
       "      <th>company_location</th>\n",
       "      <th>company_size</th>\n",
       "      <th>remote_status</th>\n",
       "    </tr>\n",
       "  </thead>\n",
       "  <tbody>\n",
       "    <tr>\n",
       "      <th>work_year</th>\n",
       "      <td>0.000000e+00</td>\n",
       "      <td>6.086444e-22</td>\n",
       "      <td>1.088887e-14</td>\n",
       "      <td>3.572363e-03</td>\n",
       "      <td>2.623257e-05</td>\n",
       "      <td>4.267120e-165</td>\n",
       "      <td>1.741436e-80</td>\n",
       "    </tr>\n",
       "    <tr>\n",
       "      <th>experience_level</th>\n",
       "      <td>6.086444e-22</td>\n",
       "      <td>0.000000e+00</td>\n",
       "      <td>1.217768e-19</td>\n",
       "      <td>2.826816e-16</td>\n",
       "      <td>7.262801e-01</td>\n",
       "      <td>1.331048e-34</td>\n",
       "      <td>2.497559e-18</td>\n",
       "    </tr>\n",
       "    <tr>\n",
       "      <th>employment_type</th>\n",
       "      <td>1.088887e-14</td>\n",
       "      <td>1.217768e-19</td>\n",
       "      <td>0.000000e+00</td>\n",
       "      <td>6.216573e-02</td>\n",
       "      <td>9.148942e-01</td>\n",
       "      <td>1.415995e-49</td>\n",
       "      <td>2.973547e-04</td>\n",
       "    </tr>\n",
       "    <tr>\n",
       "      <th>job_title</th>\n",
       "      <td>3.572363e-03</td>\n",
       "      <td>2.826816e-16</td>\n",
       "      <td>6.216573e-02</td>\n",
       "      <td>0.000000e+00</td>\n",
       "      <td>1.382587e-04</td>\n",
       "      <td>1.693839e-08</td>\n",
       "      <td>7.639311e-11</td>\n",
       "    </tr>\n",
       "    <tr>\n",
       "      <th>company_location</th>\n",
       "      <td>2.623257e-05</td>\n",
       "      <td>7.262801e-01</td>\n",
       "      <td>9.148942e-01</td>\n",
       "      <td>1.382587e-04</td>\n",
       "      <td>0.000000e+00</td>\n",
       "      <td>6.237401e-05</td>\n",
       "      <td>7.719825e-20</td>\n",
       "    </tr>\n",
       "    <tr>\n",
       "      <th>company_size</th>\n",
       "      <td>4.267120e-165</td>\n",
       "      <td>1.331048e-34</td>\n",
       "      <td>1.415995e-49</td>\n",
       "      <td>1.693839e-08</td>\n",
       "      <td>6.237401e-05</td>\n",
       "      <td>0.000000e+00</td>\n",
       "      <td>2.262649e-78</td>\n",
       "    </tr>\n",
       "    <tr>\n",
       "      <th>remote_status</th>\n",
       "      <td>1.741436e-80</td>\n",
       "      <td>2.497559e-18</td>\n",
       "      <td>2.973547e-04</td>\n",
       "      <td>7.639311e-11</td>\n",
       "      <td>7.719825e-20</td>\n",
       "      <td>2.262649e-78</td>\n",
       "      <td>0.000000e+00</td>\n",
       "    </tr>\n",
       "  </tbody>\n",
       "</table>\n",
       "</div>"
      ],
      "text/plain": [
       "                      work_year  experience_level  employment_type  \\\n",
       "work_year          0.000000e+00      6.086444e-22     1.088887e-14   \n",
       "experience_level   6.086444e-22      0.000000e+00     1.217768e-19   \n",
       "employment_type    1.088887e-14      1.217768e-19     0.000000e+00   \n",
       "job_title          3.572363e-03      2.826816e-16     6.216573e-02   \n",
       "company_location   2.623257e-05      7.262801e-01     9.148942e-01   \n",
       "company_size      4.267120e-165      1.331048e-34     1.415995e-49   \n",
       "remote_status      1.741436e-80      2.497559e-18     2.973547e-04   \n",
       "\n",
       "                     job_title  company_location   company_size  remote_status  \n",
       "work_year         3.572363e-03      2.623257e-05  4.267120e-165   1.741436e-80  \n",
       "experience_level  2.826816e-16      7.262801e-01   1.331048e-34   2.497559e-18  \n",
       "employment_type   6.216573e-02      9.148942e-01   1.415995e-49   2.973547e-04  \n",
       "job_title         0.000000e+00      1.382587e-04   1.693839e-08   7.639311e-11  \n",
       "company_location  1.382587e-04      0.000000e+00   6.237401e-05   7.719825e-20  \n",
       "company_size      1.693839e-08      6.237401e-05   0.000000e+00   2.262649e-78  \n",
       "remote_status     7.639311e-11      7.719825e-20   2.262649e-78   0.000000e+00  "
      ]
     },
     "metadata": {},
     "output_type": "display_data"
    }
   ],
   "source": [
    "# view chi_p_vals\n",
    "\n",
    "display(chi_p_vals)"
   ]
  },
  {
   "cell_type": "code",
   "execution_count": 65,
   "id": "4d91a562",
   "metadata": {
    "scrolled": false
   },
   "outputs": [
    {
     "data": {
      "image/png": "[encoded data removed]",
      "text/plain": [
       "<Figure size 864x576 with 2 Axes>"
      ]
     },
     "metadata": {
      "needs_background": "light"
     },
     "output_type": "display_data"
    }
   ],
   "source": [
    "# visualize heatmap of chi-square p values\n",
    "\n",
    "fig, ax = plt.subplots(figsize=(12, 8))\n",
    "\n",
    "im = ax.imshow(chi_p_vals)\n",
    "\n",
    "# Show all ticks and label them with the respective list entries\n",
    "ax.set_xticks(range(len(chi_p_vals.columns)))\n",
    "\n",
    "ax.set_xticklabels(labels=chi_p_vals.columns,\n",
    "              rotation=90, ha=\"right\", rotation_mode=\"anchor\")\n",
    "\n",
    "ax.set_yticks(range(len(chi_p_vals.index)))\n",
    "\n",
    "ax.set_yticklabels(labels=chi_p_vals.index,\n",
    "              ha=\"right\", rotation_mode=\"anchor\")\n",
    "\n",
    "# Loop over data dimensions and create text annotations\n",
    "for i in range(len(chi_p_vals.index)):\n",
    "    for j in range(len(chi_p_vals.columns)):\n",
    "        text = ax.text(j, i, round(chi_p_vals.iloc[i, j], 2),\n",
    "                       ha=\"center\", va=\"center\", color=\"w\")\n",
    "\n",
    "ax.set_title(\"Chi-Square P Values\")\n",
    "ax.set_xlabel(\"Categorical Columns\")\n",
    "ax.set_ylabel(\"Categorical Columns\")\n",
    "ax.figure.colorbar(im)\n",
    "plt.show()"
   ]
  },
  {
   "cell_type": "markdown",
   "id": "0747db96",
   "metadata": {},
   "source": [
    "The above plots show that most of \n",
    "\n",
    "The plot also shows that all other variables are dependent variables which have relationships between themselves."
   ]
  }
 ],
 "metadata": {
  "kernelspec": {
   "display_name": "Python 3",
   "language": "python",
   "name": "python3"
  },
  "language_info": {
   "codemirror_mode": {
    "name": "ipython",
    "version": 3
   },
   "file_extension": ".py",
   "mimetype": "text/x-python",
   "name": "python",
   "nbconvert_exporter": "python",
   "pygments_lexer": "ipython3",
   "version": "3.8.8"
  }
 },
 "nbformat": 4,
 "nbformat_minor": 5
}
